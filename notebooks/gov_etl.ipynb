{
  "nbformat": 4,
  "nbformat_minor": 0,
  "metadata": {
    "colab": {
      "provenance": [],
      "toc_visible": true,
      "authorship_tag": "ABX9TyMK9eAQ+6XdrMiA+U6DI1aX",
      "include_colab_link": true
    },
    "kernelspec": {
      "name": "python3",
      "display_name": "Python 3"
    },
    "language_info": {
      "name": "python"
    },
    "widgets": {
      "application/vnd.jupyter.widget-state+json": {
        "7cbafdc4fdb34fb5a8130029517e2dc5": {
          "model_module": "@jupyter-widgets/controls",
          "model_name": "DropdownModel",
          "model_module_version": "1.5.0",
          "state": {
            "_dom_classes": [],
            "_model_module": "@jupyter-widgets/controls",
            "_model_module_version": "1.5.0",
            "_model_name": "DropdownModel",
            "_options_labels": [
              "Click to Select a Dataset",
              "2013 - 2015 New York State Mathematics Exam",
              "DOHMH New York City Restaurant Inspection Results",
              "New York City Leading Causes of Death",
              "Product Data for Newly Reported Drugs in the Medicaid Drug Rebate Program 2023-10-02-to-2023-10-08",
              "NYSERDA New York Offshore Wind Supply Chain Dataset",
              "New York City Truck Routes",
              "New York City Population by Borough, 1950 - 2040",
              "Product Data for Newly Reported Drugs in the Medicaid Drug Rebate Program 2023-09-25-to-2023-10-01"
            ],
            "_view_count": null,
            "_view_module": "@jupyter-widgets/controls",
            "_view_module_version": "1.5.0",
            "_view_name": "DropdownView",
            "description": "Datasets",
            "description_tooltip": null,
            "disabled": false,
            "index": 2,
            "layout": "IPY_MODEL_c907e44528314b17a07ba00c71eff9a7",
            "style": "IPY_MODEL_71abdac254d04757ad7b9e7564fbd67f"
          }
        },
        "c907e44528314b17a07ba00c71eff9a7": {
          "model_module": "@jupyter-widgets/base",
          "model_name": "LayoutModel",
          "model_module_version": "1.2.0",
          "state": {
            "_model_module": "@jupyter-widgets/base",
            "_model_module_version": "1.2.0",
            "_model_name": "LayoutModel",
            "_view_count": null,
            "_view_module": "@jupyter-widgets/base",
            "_view_module_version": "1.2.0",
            "_view_name": "LayoutView",
            "align_content": null,
            "align_items": null,
            "align_self": null,
            "border": null,
            "bottom": null,
            "display": null,
            "flex": null,
            "flex_flow": null,
            "grid_area": null,
            "grid_auto_columns": null,
            "grid_auto_flow": null,
            "grid_auto_rows": null,
            "grid_column": null,
            "grid_gap": null,
            "grid_row": null,
            "grid_template_areas": null,
            "grid_template_columns": null,
            "grid_template_rows": null,
            "height": null,
            "justify_content": null,
            "justify_items": null,
            "left": null,
            "margin": null,
            "max_height": null,
            "max_width": null,
            "min_height": null,
            "min_width": null,
            "object_fit": null,
            "object_position": null,
            "order": null,
            "overflow": null,
            "overflow_x": null,
            "overflow_y": null,
            "padding": null,
            "right": null,
            "top": null,
            "visibility": null,
            "width": "50%"
          }
        },
        "71abdac254d04757ad7b9e7564fbd67f": {
          "model_module": "@jupyter-widgets/controls",
          "model_name": "DescriptionStyleModel",
          "model_module_version": "1.5.0",
          "state": {
            "_model_module": "@jupyter-widgets/controls",
            "_model_module_version": "1.5.0",
            "_model_name": "DescriptionStyleModel",
            "_view_count": null,
            "_view_module": "@jupyter-widgets/base",
            "_view_module_version": "1.2.0",
            "_view_name": "StyleView",
            "description_width": ""
          }
        }
      }
    }
  },
  "cells": [
    {
      "cell_type": "markdown",
      "metadata": {
        "id": "view-in-github",
        "colab_type": "text"
      },
      "source": [
        "<a href=\"https://colab.research.google.com/github/mathewsrc/Streamlined-ETL-Process-Unleashing-Polars-Dataprep-and-Airflow/blob/master/notebooks/gov_etl.ipynb\" target=\"_parent\"><img src=\"https://colab.research.google.com/assets/colab-badge.svg\" alt=\"Open In Colab\"/></a>"
      ]
    },
    {
      "cell_type": "markdown",
      "source": [
        "# Streamlined ETL Process: Unleashing Polars and Dataprep"
      ],
      "metadata": {
        "id": "xbeyh2FWetc-"
      }
    },
    {
      "cell_type": "markdown",
      "source": [
        "**Project Summary:**\n",
        "\n",
        "This ETL (Extract, Transform, Load) project employs several Python libraries, including Polars, Dataprep, Requests, BeautifulSoup, and Loguru, to streamline the extraction, transformation, and loading of CSV datasets from the U.S. government's data repository at https://catalog.data.gov.\n",
        "\n"
      ],
      "metadata": {
        "id": "XQneUg0fClmh"
      }
    },
    {
      "cell_type": "markdown",
      "source": [
        "**Project Objectives:**\n",
        "\n",
        "Extraction: I utilize the requests library and BeautifulSoup to scrape datasets from https://catalog.data.gov, a repository of various data formats, including CSV, XLS, and HTML.\n",
        "\n",
        "Transformation: Data manipulation and cleaning are accomplished using Polars, a high-performance data manipulation library written in Rust.\n",
        "\n",
        "Data Profiling: Dataprep is employed to create dynamic data reports and facilitate data profiling, quality assessment, and visualization, providing insights into data quality and characteristics.\n",
        "\n",
        "Loading: Transformed data is saved in CSV files using Polars.\n",
        "\n",
        "Logging: Loguru is chosen for logging, ensuring transparency and facilitating debugging throughout the ETL process.\n",
        "\n",
        "Through the automation of these ETL tasks, I establish a robust data pipeline that transforms raw data into valuable assets, supporting informed decision-making and data-driven insights."
      ],
      "metadata": {
        "id": "qCxLL3DWAGLK"
      }
    },
    {
      "cell_type": "markdown",
      "source": [
        "**Directory structure**\n",
        "\n",
        "- **data/raw/**: Contains raw data files.\n",
        "- **data/interim/**: Contains intermediary processed data.\n",
        "- **data/processed/**: Contains processed data.\n",
        "- **data/reports/**: Contains reports for each dataset."
      ],
      "metadata": {
        "id": "EkWfyHr68Igk"
      }
    },
    {
      "cell_type": "markdown",
      "source": [
        "### Install libraries"
      ],
      "metadata": {
        "id": "Ez3Aqqq3Vs7o"
      }
    },
    {
      "cell_type": "code",
      "source": [
        "!pip install --upgrade pip\n",
        "!pip install -q loguru==0.7.2\n",
        "!pip install -q polars==0.19.7\n",
        "!pip install -q furl==2.1.3\n",
        "!pip install -q tqdm==4.66.1\n",
        "!pip install -q dataprep==0.4.5\n",
        "!pip install -q requests==2.31.0\n",
        "!pip install -q pandas==1.5.3 # pandas 2.1.1 does not work with dataprep current version\n",
        "!pip install -q beautifulsoup4==4.11.2\n",
        "!pip install -q duckdb==0.9.1"
      ],
      "metadata": {
        "id": "dXYtgXthx9Jf",
        "colab": {
          "base_uri": "https://localhost:8080/"
        },
        "outputId": "70669386-4608-4650-8c6b-b2b0ae811525"
      },
      "execution_count": 197,
      "outputs": [
        {
          "output_type": "stream",
          "name": "stdout",
          "text": [
            "Requirement already satisfied: pip in /usr/local/lib/python3.10/dist-packages (23.3.1)\n",
            "\u001b[33mWARNING: Running pip as the 'root' user can result in broken permissions and conflicting behaviour with the system package manager. It is recommended to use a virtual environment instead: https://pip.pypa.io/warnings/venv\u001b[0m\u001b[33m\n",
            "\u001b[0m\u001b[33mWARNING: Running pip as the 'root' user can result in broken permissions and conflicting behaviour with the system package manager. It is recommended to use a virtual environment instead: https://pip.pypa.io/warnings/venv\u001b[0m\u001b[33m\n",
            "\u001b[0m\u001b[33mWARNING: Running pip as the 'root' user can result in broken permissions and conflicting behaviour with the system package manager. It is recommended to use a virtual environment instead: https://pip.pypa.io/warnings/venv\u001b[0m\u001b[33m\n",
            "\u001b[0m\u001b[33mWARNING: Running pip as the 'root' user can result in broken permissions and conflicting behaviour with the system package manager. It is recommended to use a virtual environment instead: https://pip.pypa.io/warnings/venv\u001b[0m\u001b[33m\n",
            "\u001b[0m\u001b[33mWARNING: Running pip as the 'root' user can result in broken permissions and conflicting behaviour with the system package manager. It is recommended to use a virtual environment instead: https://pip.pypa.io/warnings/venv\u001b[0m\u001b[33m\n",
            "\u001b[0m\u001b[33mWARNING: Running pip as the 'root' user can result in broken permissions and conflicting behaviour with the system package manager. It is recommended to use a virtual environment instead: https://pip.pypa.io/warnings/venv\u001b[0m\u001b[33m\n",
            "\u001b[0m\u001b[33mWARNING: Running pip as the 'root' user can result in broken permissions and conflicting behaviour with the system package manager. It is recommended to use a virtual environment instead: https://pip.pypa.io/warnings/venv\u001b[0m\u001b[33m\n",
            "\u001b[0m\u001b[33mWARNING: Running pip as the 'root' user can result in broken permissions and conflicting behaviour with the system package manager. It is recommended to use a virtual environment instead: https://pip.pypa.io/warnings/venv\u001b[0m\u001b[33m\n",
            "\u001b[0m\u001b[33mWARNING: Running pip as the 'root' user can result in broken permissions and conflicting behaviour with the system package manager. It is recommended to use a virtual environment instead: https://pip.pypa.io/warnings/venv\u001b[0m\u001b[33m\n",
            "\u001b[2K   \u001b[90m━━━━━━━━━━━━━━━━━━━━━━━━━━━━━━━━━━━━━━━━\u001b[0m \u001b[32m16.5/16.5 MB\u001b[0m \u001b[31m45.4 MB/s\u001b[0m eta \u001b[36m0:00:00\u001b[0m\n",
            "\u001b[?25h\u001b[33mWARNING: Running pip as the 'root' user can result in broken permissions and conflicting behaviour with the system package manager. It is recommended to use a virtual environment instead: https://pip.pypa.io/warnings/venv\u001b[0m\u001b[33m\n",
            "\u001b[0m"
          ]
        }
      ]
    },
    {
      "cell_type": "markdown",
      "source": [
        "### Import libraries"
      ],
      "metadata": {
        "id": "5zJz-MTyVvwq"
      }
    },
    {
      "cell_type": "code",
      "execution_count": 198,
      "metadata": {
        "id": "RkPBYbeGNFtn"
      },
      "outputs": [],
      "source": [
        "import requests\n",
        "import furl\n",
        "import polars as pl\n",
        "import bs4\n",
        "from bs4 import BeautifulSoup\n",
        "import pandas as pd\n",
        "import os\n",
        "from loguru import logger\n",
        "import sys\n",
        "import re\n",
        "from datetime import datetime\n",
        "from tqdm import tqdm\n",
        "import dataprep\n",
        "from dataprep.eda import create_report\n",
        "import duckdb"
      ]
    },
    {
      "cell_type": "code",
      "source": [
        "import warnings\n",
        "\n",
        "# Filter out warnings throwed by dataprep\n",
        "warnings.filterwarnings(\"ignore\", category=FutureWarning)\n",
        "warnings.filterwarnings(\"ignore\", category=RuntimeWarning)"
      ],
      "metadata": {
        "id": "9AZzkLhbY2km"
      },
      "execution_count": 3,
      "outputs": []
    },
    {
      "cell_type": "code",
      "source": [
        "# Print package versions\n",
        "print(f\"requests version: {requests.__version__}\") #2.31.0\n",
        "print(f\"furl version: {furl.__version__}\") #2.1.3\n",
        "print(f\"polars version: {pl.__version__}\") #0.19.7\n",
        "print(f\"BeautifulSoup version: {bs4.__version__}\") #4.11.2\n",
        "print(f\"pandas version: {pd.__version__}\") #1.5.3\n",
        "print(f\"Python version: {sys.version}\")"
      ],
      "metadata": {
        "id": "0DqiqrW3xOT-",
        "colab": {
          "base_uri": "https://localhost:8080/"
        },
        "outputId": "3b210423-0d98-46e9-e7d7-aeafb675f8d6"
      },
      "execution_count": 4,
      "outputs": [
        {
          "output_type": "stream",
          "name": "stdout",
          "text": [
            "requests version: 2.31.0\n",
            "furl version: 2.1.3\n",
            "polars version: 0.19.7\n",
            "BeautifulSoup version: 4.11.2\n",
            "pandas version: 1.5.3\n",
            "Python version: 3.10.12 (main, Jun 11 2023, 05:26:28) [GCC 11.4.0]\n"
          ]
        }
      ]
    },
    {
      "cell_type": "markdown",
      "source": [
        "Create directories to save data"
      ],
      "metadata": {
        "id": "8-zSeK8sC464"
      }
    },
    {
      "cell_type": "code",
      "source": [
        "# Define the directories to save data\n",
        "\n",
        "raw_dir = \"./data/raw\"\n",
        "interim_dir = \"./data/interim\"\n",
        "processed_dir = \"./data/processed\"\n",
        "reports_dir = \"./data/reports\"\n",
        "\n",
        "# Create directories\n",
        "for dir in [raw_dir, interim_dir, processed_dir, reports_dir]:\n",
        "    os.makedirs(dir, exist_ok=True)"
      ],
      "metadata": {
        "id": "lj5YxgIm6vWv"
      },
      "execution_count": 5,
      "outputs": []
    },
    {
      "cell_type": "markdown",
      "source": [
        "Define files time period to improve organization"
      ],
      "metadata": {
        "id": "-pAojves7f5F"
      }
    },
    {
      "cell_type": "code",
      "source": [
        "# Get the current date and time\n",
        "current_datetime = datetime.now()\n",
        "\n",
        "# Format the current date and time to obtain the time period as \"YYYY-MM\"\n",
        "time_period = current_datetime.strftime(\"%Y_%m\")\n",
        "logger.info(f\"Time period: {time_period}\")"
      ],
      "metadata": {
        "id": "Z92dUv__nFqv",
        "colab": {
          "base_uri": "https://localhost:8080/"
        },
        "outputId": "85f011d6-2cff-4ca6-abe9-837adeb1c507"
      },
      "execution_count": 6,
      "outputs": [
        {
          "output_type": "stream",
          "name": "stderr",
          "text": [
            "\u001b[32m2023-10-21 20:34:42.813\u001b[0m | \u001b[1mINFO    \u001b[0m | \u001b[36m__main__\u001b[0m:\u001b[36m<cell line: 6>\u001b[0m:\u001b[36m6\u001b[0m - \u001b[1mTime period: 2023_10\u001b[0m\n"
          ]
        }
      ]
    },
    {
      "cell_type": "markdown",
      "source": [
        "## Extract"
      ],
      "metadata": {
        "id": "_vOPFIqJDb7m"
      }
    },
    {
      "cell_type": "code",
      "source": [
        "import re\n",
        "\n",
        "@logger.catch\n",
        "def format_url(url):\n",
        "    \"\"\"\n",
        "    Format URL\n",
        "\n",
        "    Args:\n",
        "        url (str): The original URL to be formatted.\n",
        "\n",
        "    Returns:\n",
        "        str: The formatted URL.\n",
        "\n",
        "    Example:\n",
        "        >>> format_url(\"https://www.ers.usda.gov/page?q=example\")\n",
        "        'https://www.ers.usda.gov/page'\n",
        "    \"\"\"\n",
        "\n",
        "\n",
        "    # Define a regular expression pattern to remove query parameters from the URL\n",
        "    pattern = r'\\?.+'\n",
        "\n",
        "    # Use regular expression substitution to remove the pattern from the URL\n",
        "    url = re.sub(pattern, '', url)\n",
        "\n",
        "     # Define a prefix for the URL\n",
        "    prefix = \"https://www.ers.usda.gov\"\n",
        "\n",
        "    # Add prefix if URL does not start with https:// or http://\n",
        "    if not url.startswith(\"https://\") and not url.startswith(\"http://\"):\n",
        "        url = furl.furl(prefix).add(path=url).url\n",
        "\n",
        "    return url"
      ],
      "metadata": {
        "id": "bb9k_JSp1-pq"
      },
      "execution_count": 7,
      "outputs": []
    },
    {
      "cell_type": "markdown",
      "source": [
        "Assert that `format_url()` is working as expected\n"
      ],
      "metadata": {
        "id": "Mux2fn252knk"
      }
    },
    {
      "cell_type": "code",
      "source": [
        "# Testing the function with assertions\n",
        "assert format_url(\"https://www.ers.usda.gov/page?q=example\") == 'https://www.ers.usda.gov/page'\n",
        "assert format_url(\"https://www.ers.usda.gov/\") == 'https://www.ers.usda.gov/'\n",
        "assert format_url(\"/webdocs/DataFiles/106595/Dates2020.csv?v=5007.3\") == \"https://www.ers.usda.gov/webdocs/DataFiles/106595/Dates2020.csv\"\n",
        "assert format_url(\"/webdocs/DataFiles/51035/FruitPrices2020.csv?v=5007\") == \"https://www.ers.usda.gov/webdocs/DataFiles/51035/FruitPrices2020.csv\"\n",
        "assert format_url(\"https://data.wa.gov/api/views/f6w7-q2d2/rows.csv?accessType=DOWNLOAD\") == \"https://data.wa.gov/api/views/f6w7-q2d2/rows.csv\""
      ],
      "metadata": {
        "id": "ZZanaEq5D-4f"
      },
      "execution_count": 8,
      "outputs": []
    },
    {
      "cell_type": "code",
      "source": [
        "import re\n",
        "\n",
        "@logger.catch\n",
        "def modify_file_name(name):\n",
        "    \"\"\"\n",
        "    Modify a file name by performing the following transformations:\n",
        "\n",
        "    Args:\n",
        "        name (str): The original file name to be modified.\n",
        "\n",
        "    Returns:\n",
        "        str: The modified file name.\n",
        "\n",
        "    Example:\n",
        "        >>> modify_file_name(\"My File 123.txt\")\n",
        "        'my_file_123.txt'\n",
        "\n",
        "        >>> modify_file_name(\"!@#File Name$%^\")\n",
        "        'file_name'\n",
        "    \"\"\"\n",
        "\n",
        "    # Convert the file name to lowercase\n",
        "    name = name.lower()\n",
        "\n",
        "    # Replace non-alphanumeric and non-underscore characters with underscores\n",
        "    name = re.sub(r'[^a-zA-Z0-9_\\.]+', '_', name)\n",
        "\n",
        "    # Remove non-alphanumeric characters from the start and end of the name\n",
        "    name = re.sub(r'^[^a-zA-Z0-9]+|[^a-zA-Z0-9]+$', '', name)\n",
        "\n",
        "    return name\n"
      ],
      "metadata": {
        "id": "6pRBf0s9CVe_"
      },
      "execution_count": 9,
      "outputs": []
    },
    {
      "cell_type": "code",
      "source": [
        "assert modify_file_name(\"My File 123.txt\") == \"my_file_123.txt\"\n",
        "assert modify_file_name(\"!@#File Name$%^\") == \"file_name\"\n",
        "assert modify_file_name(\"File123\") == \"file123\"\n",
        "assert modify_file_name(\"   leading_trailing   \") == \"leading_trailing\"\n",
        "assert modify_file_name(\"_#Name_With_Underscores_%\") == \"name_with_underscores\""
      ],
      "metadata": {
        "id": "2f4h5_j5Chs1"
      },
      "execution_count": 10,
      "outputs": []
    },
    {
      "cell_type": "code",
      "source": [
        "@logger.catch\n",
        "def extract(url, name):\n",
        "    \"\"\"\n",
        "    Extract data from a specified URL, format the URL and file name,\n",
        "    and save the data to a file.\n",
        "\n",
        "    Args:\n",
        "        url (str): The URL of the data source.\n",
        "        name (str): The name of the data item.\n",
        "\n",
        "    Returns:\n",
        "        str: The path to the saved data file, or None if extraction fails.\n",
        "\n",
        "    Example:\n",
        "        >>> extract(\"https://www.example.com/data.csv\", \"Sample Data\")\n",
        "        'path_to_saved_data/Sample_Data.csv'\n",
        "\n",
        "        >>> extract(\"https://www.example.com/data.txt\", \"Text Data\")\n",
        "        # Error: Unsupported file format\n",
        "    \"\"\"\n",
        "\n",
        "    print(\"\")\n",
        "    logger.info(\"EXTRACT STARTED!\")\n",
        "\n",
        "    # Log the URL and name of the selected item\n",
        "    logger.info(f'Selected item URL: {url}')\n",
        "    logger.info(f'Selected item name: {name}')\n",
        "\n",
        "    # Format the file name\n",
        "    name = modify_file_name(name)\n",
        "\n",
        "    # Format the URL\n",
        "    url = format_url(url)\n",
        "\n",
        "    # Log the formatted URL and name\n",
        "    logger.info(f'Selected item URL (Formatted): {url}')\n",
        "    logger.info(f'Selected item name (Formatted): {name}')\n",
        "\n",
        "    # Determine the file extension from the URL\n",
        "    file_extension = url.split('.')[-1].lower()\n",
        "\n",
        "    # Generate the output file name\n",
        "    filename = f\"{name}_{time_period}.{file_extension}\"\n",
        "\n",
        "    # Handle CSV files\n",
        "    if file_extension == 'csv':\n",
        "        output_path = os.path.join(raw_dir, filename)\n",
        "        pl.read_csv(url, try_parse_dates=True, ignore_errors=True).write_csv(output_path)\n",
        "    else:\n",
        "        logger.error(f\"Unsupported file format: {file_extension}\")\n",
        "        return None\n",
        "\n",
        "    # Log success and return the path to the saved file\n",
        "    logger.success(f\"Data successfully fetched and saved at {output_path}\")\n",
        "    return output_path"
      ],
      "metadata": {
        "id": "pO54eEbDNwGi"
      },
      "execution_count": 11,
      "outputs": []
    },
    {
      "cell_type": "markdown",
      "source": [
        "Test if `extract()` function is working as expected"
      ],
      "metadata": {
        "id": "nT3FY1vPDfRM"
      }
    },
    {
      "cell_type": "code",
      "source": [
        "url = \"https://data.wa.gov/api/views/f6w7-q2d2/rows.csv?accessType=DOWNLOAD\"\n",
        "expected_output_file = f\"electric_vehicle_population_data_{time_period}.csv\"\n",
        "expected_output_path = os.path.join(raw_dir, expected_output_file)\n",
        "extracted_output_path =  extract(url, \"Electric Vehicle Population Data\")\n",
        "assert extracted_output_path == expected_output_path"
      ],
      "metadata": {
        "id": "EWQo6T1Z9BSv",
        "colab": {
          "base_uri": "https://localhost:8080/"
        },
        "outputId": "e7359db7-220d-4716-9267-6a9868779dd4"
      },
      "execution_count": 12,
      "outputs": [
        {
          "output_type": "stream",
          "name": "stderr",
          "text": [
            "\u001b[32m2023-10-21 20:34:42.883\u001b[0m | \u001b[1mINFO    \u001b[0m | \u001b[36m__main__\u001b[0m:\u001b[36mextract\u001b[0m:\u001b[36m23\u001b[0m - \u001b[1mEXTRACT STARTED!\u001b[0m\n",
            "\u001b[32m2023-10-21 20:34:42.887\u001b[0m | \u001b[1mINFO    \u001b[0m | \u001b[36m__main__\u001b[0m:\u001b[36mextract\u001b[0m:\u001b[36m26\u001b[0m - \u001b[1mSelected item URL: https://data.wa.gov/api/views/f6w7-q2d2/rows.csv?accessType=DOWNLOAD\u001b[0m\n",
            "\u001b[32m2023-10-21 20:34:42.889\u001b[0m | \u001b[1mINFO    \u001b[0m | \u001b[36m__main__\u001b[0m:\u001b[36mextract\u001b[0m:\u001b[36m27\u001b[0m - \u001b[1mSelected item name: Electric Vehicle Population Data\u001b[0m\n",
            "\u001b[32m2023-10-21 20:34:42.891\u001b[0m | \u001b[1mINFO    \u001b[0m | \u001b[36m__main__\u001b[0m:\u001b[36mextract\u001b[0m:\u001b[36m36\u001b[0m - \u001b[1mSelected item URL (Formatted): https://data.wa.gov/api/views/f6w7-q2d2/rows.csv\u001b[0m\n",
            "\u001b[32m2023-10-21 20:34:42.893\u001b[0m | \u001b[1mINFO    \u001b[0m | \u001b[36m__main__\u001b[0m:\u001b[36mextract\u001b[0m:\u001b[36m37\u001b[0m - \u001b[1mSelected item name (Formatted): electric_vehicle_population_data\u001b[0m\n"
          ]
        },
        {
          "output_type": "stream",
          "name": "stdout",
          "text": [
            "\n"
          ]
        },
        {
          "output_type": "stream",
          "name": "stderr",
          "text": [
            "\u001b[32m2023-10-21 20:34:48.372\u001b[0m | \u001b[32m\u001b[1mSUCCESS \u001b[0m | \u001b[36m__main__\u001b[0m:\u001b[36mextract\u001b[0m:\u001b[36m54\u001b[0m - \u001b[32m\u001b[1mData successfully fetched and saved at ./data/raw/electric_vehicle_population_data_2023_10.csv\u001b[0m\n"
          ]
        }
      ]
    },
    {
      "cell_type": "markdown",
      "source": [
        "## Transform"
      ],
      "metadata": {
        "id": "R8n2vQqKDnwe"
      }
    },
    {
      "cell_type": "code",
      "source": [
        "import polars as pl\n",
        "\n",
        "@logger.catch\n",
        "def lower_column(df):\n",
        "    \"\"\"\n",
        "    Rename columns to lowercase in a Polars DataFrame.\n",
        "\n",
        "    Args:\n",
        "        df (pl.DataFrame): The input Polars DataFrame.\n",
        "\n",
        "    Returns:\n",
        "        pl.DataFrame: The Polars DataFrame with column names in lowercase.\n",
        "\n",
        "    Example:\n",
        "        >>> df = pl.DataFrame({\n",
        "        ...     \"Column1\": [1, 2, 3],\n",
        "        ...     \"Column2\": [\"A\", \"B\", \"C\"]\n",
        "        ... })\n",
        "        >>> df = lower_column(df)\n",
        "        >>> print(df)\n",
        "        shape: (3, 2)\n",
        "        ┌────────┬────────┐\n",
        "        │ column1│ column2│\n",
        "        │ int    │ str    │\n",
        "        ╞════════╪════════╡\n",
        "        │ 1      │ \"A\"    │\n",
        "        ├────────┼────────┤\n",
        "        │ 2      │ \"B\"    │\n",
        "        ├────────┼────────┤\n",
        "        │ 3      │ \"C\"    │\n",
        "        └────────┴────────┘\n",
        "\n",
        "    Note:\n",
        "        This function renames columns in the input Polars DataFrame to lowercase.\n",
        "        It creates a new DataFrame with column names converted to lowercase while keeping the original data intact.\n",
        "\n",
        "    \"\"\"\n",
        "    return df.select([pl.col(col).alias(col.lower().replace(\" \", \"_\")) for col in df.columns])"
      ],
      "metadata": {
        "id": "mhMT9GcvqbWN"
      },
      "execution_count": 13,
      "outputs": []
    },
    {
      "cell_type": "code",
      "source": [
        "import polars as pl\n",
        "\n",
        "@logger.catch\n",
        "def drop_duplicates(df):\n",
        "    \"\"\"\n",
        "    Remove duplicate rows from a Polars DataFrame.\n",
        "\n",
        "    Args:\n",
        "        df (pl.DataFrame): The input Polars DataFrame.\n",
        "\n",
        "    Returns:\n",
        "        pl.DataFrame: The Polars DataFrame with duplicate rows removed.\n",
        "\n",
        "    Example:\n",
        "        >>> df = pl.DataFrame({\n",
        "        ...     \"Column1\": [1, 2, 2, 3, 4],\n",
        "        ...     \"Column2\": [\"A\", \"B\", \"B\", \"C\", \"D\"]\n",
        "        ... })\n",
        "        >>> df = drop_duplicates(df)\n",
        "        >>> print(df)\n",
        "        shape: (4, 2)\n",
        "        ┌────────┬────────┐\n",
        "        │ column1│ column2│\n",
        "        │ int    │ str    │\n",
        "        ╞════════╪════════╡\n",
        "        │ 1      │ \"A\"    │\n",
        "        ├────────┼────────┤\n",
        "        │ 2      │ \"B\"    │\n",
        "        ├────────┼────────┤\n",
        "        │ 3      │ \"C\"    │\n",
        "        ├────────┼────────┤\n",
        "        │ 4      │ \"D\"    │\n",
        "        └────────┴────────┘\n",
        "\n",
        "    Note:\n",
        "        This function removes duplicate rows from the input Polars DataFrame.\n",
        "        It creates a new DataFrame with duplicate rows removed, but it does not modify the original DataFrame.\n",
        "\n",
        "    \"\"\"\n",
        "    return df.unique(keep=\"first\")"
      ],
      "metadata": {
        "id": "U15jenvIqe4n"
      },
      "execution_count": 14,
      "outputs": []
    },
    {
      "cell_type": "code",
      "source": [
        "import polars as pl\n",
        "\n",
        "def drop_full_row_null(df):\n",
        "    \"\"\"\n",
        "    Drop rows from a polars DataFrame if all values in a row are null.\n",
        "\n",
        "    Args:\n",
        "        df (pl.DataFrame): The input polars DataFrame from which rows with all-null values will be removed.\n",
        "\n",
        "    Returns:\n",
        "        pl.DataFrame: A new polars DataFrame with rows removed if all values in the row are null.\n",
        "\n",
        "    Example:\n",
        "        >>> import polars as pl\n",
        "        >>> df = pl.DataFrame({\n",
        "        ...     'A': [1, 2, None, 4],\n",
        "        ...     'B': [None, None, None, None]\n",
        "        ... })\n",
        "        >>> result = drop_full_row_null(df)\n",
        "        >>> print(result)\n",
        "        shape: (3, 2)\n",
        "        ┌─────┬─────┐\n",
        "        │ A   │ B   │\n",
        "        │ --- │ --- │\n",
        "        │ i64 │ i64 │\n",
        "        ╞═════╪═════╡\n",
        "        │ 1   │ null│\n",
        "        ├─────┼─────┤\n",
        "        │ 2   │ null│\n",
        "        ├─────┼─────┤\n",
        "        │ 4   │ null│\n",
        "        └─────┴─────┘\n",
        "    \"\"\"\n",
        "    return df.filter(~pl.all_horizontal(pl.all().is_null()))\n"
      ],
      "metadata": {
        "id": "N--St4QLqiq-"
      },
      "execution_count": 15,
      "outputs": []
    },
    {
      "cell_type": "code",
      "source": [
        "import pandas as pd\n",
        "\n",
        "@logger.catch\n",
        "def transform(input_path):\n",
        "    \"\"\"\n",
        "    Transform a CSV file by converting all text columns to lowercase and save the result.\n",
        "\n",
        "    Args:\n",
        "        input_path (str): The path to the input CSV file to be transformed.\n",
        "\n",
        "    Returns:\n",
        "        str: The path to the transformed CSV file.\n",
        "\n",
        "    Example:\n",
        "        >>> transform(\"input_data.csv\", \"Lowercase Conversion\")\n",
        "        'path_to_transformed_data/input_data.csv'\n",
        "    \"\"\"\n",
        "    logger.info(\"TRANSFORM STARTED!\")\n",
        "\n",
        "\n",
        "    # Extract the file name from the path\n",
        "    file_name = os.path.basename(input_path)\n",
        "\n",
        "    # Define the output file path\n",
        "    output_path = os.path.join(interim_dir, file_name)\n",
        "\n",
        "    # Read the CSV file as LazyFrame using polars\n",
        "    df = pl.scan_csv(input_path)\n",
        "\n",
        "    df = (df.pipe(lower_column)  # Convert all text columns to lowercase\n",
        "            .pipe(drop_duplicates)   # Drop duplicate rows\n",
        "            .pipe(drop_full_row_null)  # Drop a row only if all values are null\n",
        "    )\n",
        "\n",
        "    # Save the transformed data as a CSV file\n",
        "    df.collect().write_csv(output_path)\n",
        "\n",
        "    # Log success and return the path to the transformed file\n",
        "    logger.success(f\"Data successfully transformed and saved at: {output_path}\")\n",
        "    return output_path"
      ],
      "metadata": {
        "id": "1EEhG8TVOobk"
      },
      "execution_count": 16,
      "outputs": []
    },
    {
      "cell_type": "markdown",
      "source": [
        "Test if `transform()` function is working as expected"
      ],
      "metadata": {
        "id": "NFclR4vADxKh"
      }
    },
    {
      "cell_type": "code",
      "source": [
        "expect_transformed_output_path = './data/interim/electric_vehicle_population_data_2023_10.csv'\n",
        "input_path = os.path.join(raw_dir, expected_output_file)\n",
        "transformed_output_path = transform(input_path)\n",
        "assert os.path.exists(expect_transformed_output_path)\n",
        "assert transformed_output_path == expect_transformed_output_path"
      ],
      "metadata": {
        "id": "84U1U2lTPLyA",
        "colab": {
          "base_uri": "https://localhost:8080/"
        },
        "outputId": "266f3441-1871-46f6-eca4-dfef3dabfce7"
      },
      "execution_count": 17,
      "outputs": [
        {
          "output_type": "stream",
          "name": "stderr",
          "text": [
            "\u001b[32m2023-10-21 20:34:48.428\u001b[0m | \u001b[1mINFO    \u001b[0m | \u001b[36m__main__\u001b[0m:\u001b[36mtransform\u001b[0m:\u001b[36m18\u001b[0m - \u001b[1mTRANSFORM STARTED!\u001b[0m\n",
            "\u001b[32m2023-10-21 20:34:48.928\u001b[0m | \u001b[32m\u001b[1mSUCCESS \u001b[0m | \u001b[36m__main__\u001b[0m:\u001b[36mtransform\u001b[0m:\u001b[36m39\u001b[0m - \u001b[32m\u001b[1mData successfully transformed and saved at: ./data/interim/electric_vehicle_population_data_2023_10.csv\u001b[0m\n"
          ]
        }
      ]
    },
    {
      "cell_type": "markdown",
      "source": [
        "## Load"
      ],
      "metadata": {
        "id": "jHvYXeE3D38g"
      }
    },
    {
      "cell_type": "code",
      "source": [
        "@logger.catch\n",
        "def load(input_path, report=True):\n",
        "    \"\"\"\n",
        "    Load data from a CSV file and save it to a specified directory.\n",
        "\n",
        "    Args:\n",
        "        input_path (str): The path to the input CSV file to be loaded.\n",
        "        report (bool, optional): If True, a report will be created and saved. Default is True.\n",
        "\n",
        "    Returns:\n",
        "        str: The path to the loaded CSV file.\n",
        "\n",
        "    Example:\n",
        "        >>> load(\"input_data.csv\", \"Data Loading\")\n",
        "        'path_to_processed_data/input_data.csv'\n",
        "    \"\"\"\n",
        "    logger.info(\"LOAD STARTED!\")\n",
        "\n",
        "    # Extract the file name from the path\n",
        "    file_name = os.path.basename(input_path)\n",
        "\n",
        "    # Define the output file path in the processed directory\n",
        "    output_path = os.path.join(processed_dir, file_name)\n",
        "\n",
        "    # Read the CSV file using polars and save it to the processed directory\n",
        "    df = pl.read_csv(input_path, ignore_errors=True, try_parse_dates=True)\n",
        "\n",
        "    if report:\n",
        "        # Create and save report\n",
        "        create_report(df.to_pandas(), progress=False).save(os.path.join(\n",
        "            reports_dir, f\"{file_name.split('.')[0]}_report.html\"))\n",
        "        logger.success(\"Report successfully created\")\n",
        "\n",
        "    df.write_csv(output_path)\n",
        "\n",
        "    # Log success and return the path to the loaded file\n",
        "    logger.success(f\"Data successfully loaded at {output_path}\")\n",
        "    return output_path"
      ],
      "metadata": {
        "id": "hBeBX9QlOV9-"
      },
      "execution_count": 18,
      "outputs": []
    },
    {
      "cell_type": "markdown",
      "source": [
        "Test if `load()` function is working as expected"
      ],
      "metadata": {
        "id": "0fP0YgtXD57Y"
      }
    },
    {
      "cell_type": "code",
      "source": [
        "expect_loaded_output_path = './data/processed/electric_vehicle_population_data_2023_10.csv'\n",
        "input_path = './data/interim/electric_vehicle_population_data_2023_10.csv'\n",
        "name = f\"electric_vehicle_population_data_{time_period}.csv\"\n",
        "loaded_output_path = load(input_path, False)\n",
        "assert  os.path.exists(expect_loaded_output_path)\n",
        "assert  loaded_output_path == expect_loaded_output_path\n",
        "\n",
        "# Delete created files by assert\n",
        "os.remove('./data/processed/electric_vehicle_population_data_2023_10.csv')\n",
        "os.remove('./data/interim/electric_vehicle_population_data_2023_10.csv')\n",
        "os.remove('./data/raw/electric_vehicle_population_data_2023_10.csv')"
      ],
      "metadata": {
        "id": "ptmtJswVSeyR",
        "colab": {
          "base_uri": "https://localhost:8080/"
        },
        "outputId": "9ef5df21-efed-4d6e-b14d-42881ab056b7"
      },
      "execution_count": 19,
      "outputs": [
        {
          "output_type": "stream",
          "name": "stderr",
          "text": [
            "\u001b[32m2023-10-21 20:34:48.950\u001b[0m | \u001b[1mINFO    \u001b[0m | \u001b[36m__main__\u001b[0m:\u001b[36mload\u001b[0m:\u001b[36m17\u001b[0m - \u001b[1mLOAD STARTED!\u001b[0m\n",
            "\u001b[32m2023-10-21 20:34:49.515\u001b[0m | \u001b[32m\u001b[1mSUCCESS \u001b[0m | \u001b[36m__main__\u001b[0m:\u001b[36mload\u001b[0m:\u001b[36m37\u001b[0m - \u001b[32m\u001b[1mData successfully loaded at ./data/processed/electric_vehicle_population_data_2023_10.csv\u001b[0m\n"
          ]
        }
      ]
    },
    {
      "cell_type": "markdown",
      "source": [
        "## Putting all together"
      ],
      "metadata": {
        "id": "WzQj_WCuVmcZ"
      }
    },
    {
      "cell_type": "code",
      "source": [
        "from tqdm import tqdm\n",
        "\n",
        "@logger.catch\n",
        "def etl_workflow(tagged_urls):\n",
        "    \"\"\"\n",
        "    Perform Extract, Transform, and Load (ETL) process for a list of tagged URLs.\n",
        "\n",
        "    Args:\n",
        "        tagged_urls (list): A list of tuples, each containing a dataset name and its URL.\n",
        "\n",
        "    The function iterates through the tagged URLs, extracts data, applies transformation,\n",
        "    and loads the data. The ETL process is performed for each dataset in the list.\n",
        "\n",
        "    Returns:\n",
        "        None\n",
        "    \"\"\"\n",
        "    for name, url in tqdm(tagged_urls):\n",
        "        output_path = extract(url, name)\n",
        "        if output_path is None:\n",
        "            continue\n",
        "        output_path = transform(output_path)\n",
        "        if output_path is None:\n",
        "            continue\n",
        "        load(output_path)\n",
        "\n",
        "    logger.success(\"ETL COMPLETED!\")"
      ],
      "metadata": {
        "id": "i56QmgZ7ycoz"
      },
      "execution_count": 20,
      "outputs": []
    },
    {
      "cell_type": "markdown",
      "source": [
        "### fetch datasets from\n",
        "\n",
        "https://catalog.data.gov/dataset/"
      ],
      "metadata": {
        "id": "rxipnksUS-sP"
      }
    },
    {
      "cell_type": "code",
      "source": [
        "import requests\n",
        "from bs4 import BeautifulSoup\n",
        "from loguru import logger\n",
        "from tqdm import tqdm\n",
        "\n",
        "@logger.catch\n",
        "def fetch_datasets(number_of_pages=3):\n",
        "    \"\"\"\n",
        "    Fetch datasets from data.gov catalog web pages and save them to a Parquet file.\n",
        "\n",
        "    Args:\n",
        "        number_of_pages (int, optional): The number of catalog pages to scrape. Default is 3.\n",
        "\n",
        "    This function scrapes dataset information from data.gov catalog web pages,\n",
        "    extracts dataset names, organizations, descriptions, and CSV links to dataset\n",
        "    resources, and then saves the data as a Parquet file.\n",
        "\n",
        "    Returns:\n",
        "        None\n",
        "    \"\"\"\n",
        "    datasets = []\n",
        "\n",
        "    for page in tqdm(range(1, number_of_pages + 1)):\n",
        "        url = f\"https://catalog.data.gov/dataset/?page={page}\"\n",
        "\n",
        "        # Send an HTTP GET request to the specified URL\n",
        "        response = requests.get(url)\n",
        "\n",
        "        # Check if the response status code is 200 (OK)\n",
        "        if response.status_code == 200:\n",
        "\n",
        "            try:\n",
        "              # Parse the HTML content of the web page using BeautifulSoup\n",
        "              bs = BeautifulSoup(response.content, \"html.parser\")\n",
        "\n",
        "              ul_tag = bs.find(\"ul\", class_=\"dataset-list unstyled\")\n",
        "\n",
        "              if ul_tag:\n",
        "                  li_tags = bs.find_all(\"li\", class_=\"dataset-item has-organization\")\n",
        "                  for li in li_tags:\n",
        "                      # Extract the dataset name\n",
        "                      name = li.find('h3').find('a').text\n",
        "\n",
        "                      # Extract the dataset organization\n",
        "                      organization = li.find('p', class_='dataset-organization').text.replace(\"—\", \"\")\n",
        "\n",
        "                      # Extract the dataset description\n",
        "                      description = li.find('div', class_='notes').find('div').text\n",
        "\n",
        "                      # Extract CSV links to dataset resources\n",
        "                      links = [a['href'] for a in li.find_all('a', class_='label label-default', attrs={\"data-format\": \"csv\"})]\n",
        "\n",
        "                      # Add dataset if it contains links\n",
        "                      if len(links) > 0:\n",
        "                          datasets.append({\n",
        "                              \"name\": name,\n",
        "                              \"organization\": organization,\n",
        "                              \"description\": description,\n",
        "                              \"links\": links\n",
        "                          })\n",
        "            except Exception as e:\n",
        "              logger.catch(f\"Error to fetch page={page}: {e}\")\n",
        "        else:\n",
        "            logger.error(\"Failed to fetch the web page.\")\n",
        "\n",
        "    # Save the collected dataset information as a Parquet file\n",
        "    pl.LazyFrame(datasets).sink_parquet(\"datasets.parquet\")\n",
        "\n",
        "    logger.success(\"DataFrame saved as ./datasets.parquet\")\n"
      ],
      "metadata": {
        "id": "4UqrMcg-S-F1"
      },
      "execution_count": 21,
      "outputs": []
    },
    {
      "cell_type": "code",
      "source": [
        "from loguru import logger\n",
        "\n",
        "@logger.catch\n",
        "def on_dropdown_change(change):\n",
        "    \"\"\"\n",
        "    Callback function triggered when the dropdown value changes.\n",
        "\n",
        "    Args:\n",
        "        change (ipywidgets.widgets.widget.CallbackDispatcher.ChangeTrait): The change event.\n",
        "\n",
        "    This function is called when the value of the dropdown widget changes. It checks if\n",
        "    the new value is empty and, if not, initiates the ETL (Extract, Transform, Load) workflow\n",
        "    for the selected dataset.\n",
        "\n",
        "    Args:\n",
        "        change (ipywidgets.widgets.widget.CallbackDispatcher.ChangeTrait): The change event object.\n",
        "\n",
        "    Returns:\n",
        "        None\n",
        "    \"\"\"\n",
        "    selected_option = change.owner.options[change.owner.index]\n",
        "\n",
        "    # Check if the new value is empty\n",
        "    if change.new == \"\":\n",
        "        return\n",
        "\n",
        "    name, urls = selected_option[0], change.new\n",
        "\n",
        "    for url in urls:\n",
        "        etl_workflow([(name, url)])"
      ],
      "metadata": {
        "id": "KUBq4JZGma0K"
      },
      "execution_count": 22,
      "outputs": []
    },
    {
      "cell_type": "code",
      "source": [
        "import ipywidgets as widgets\n",
        "from IPython.display import display\n",
        "\n",
        "@logger.catch\n",
        "def show_datasets(searchfor=None):\n",
        "    \"\"\"\n",
        "    Display a dropdown widget containing a list of datasets loaded from a Parquet file.\n",
        "\n",
        "    This function loads a Parquet dataset, removes rows with null values, creates a list of items\n",
        "    (dataset name, links) from DataFrame rows, and displays them in a Dropdown widget. The first\n",
        "    item in the dropdown serves as a default prompt to select a dataset.\n",
        "\n",
        "    Returns:\n",
        "        None\n",
        "    \"\"\"\n",
        "    # Load a Parquet dataset and remove rows with null values\n",
        "    df = pl.read_parquet(\"./datasets.parquet\").drop_nulls()\n",
        "\n",
        "    # Filter the DataFrame by name column\n",
        "    if searchfor:\n",
        "      df = df.filter(pl.col(\"name\").str.contains(r'%s' % searchfor.capitalize()))\n",
        "\n",
        "    # Create a list of items for the dropdown (name, link) from DataFrame rows\n",
        "    items = [(row[\"name\"], row[\"links\"]) for row in df.iter_rows(named=True)]\n",
        "\n",
        "    # Add a default item at the beginning of the dropdown list\n",
        "    items.insert(0, (\"Click to Select a Dataset\", \"\"))\n",
        "\n",
        "    # Create a Dropdown widget with the options and a description\n",
        "    dropdown = widgets.Dropdown(options=items, description='Datasets',\n",
        "                                layout={'width':'50%'})\n",
        "\n",
        "    # Attach the callback function to the dropdown's 'value' property\n",
        "    dropdown.observe(on_dropdown_change, names=['value'])\n",
        "\n",
        "    # Display the dropdown widget in the Jupyter Notebook\n",
        "    display(dropdown)\n"
      ],
      "metadata": {
        "id": "XPmiZ7dnLr2B"
      },
      "execution_count": 23,
      "outputs": []
    },
    {
      "cell_type": "markdown",
      "source": [
        "Run the following cell to fetch datasets. You can change the number of pages (Default 30)."
      ],
      "metadata": {
        "id": "5WYKxXMLar0s"
      }
    },
    {
      "cell_type": "code",
      "source": [
        "NUMBER_OF_PAGES = 50\n",
        "fetch_datasets(number_of_pages=NUMBER_OF_PAGES)"
      ],
      "metadata": {
        "colab": {
          "base_uri": "https://localhost:8080/"
        },
        "id": "CQgJhxoSaqzs",
        "outputId": "03ed5424-11b1-478e-a1aa-9ce9a78185de"
      },
      "execution_count": 29,
      "outputs": [
        {
          "output_type": "stream",
          "name": "stderr",
          "text": [
            "100%|██████████| 50/50 [06:29<00:00,  7.79s/it]\n",
            "\u001b[32m2023-10-21 20:49:22.299\u001b[0m | \u001b[32m\u001b[1mSUCCESS \u001b[0m | \u001b[36m__main__\u001b[0m:\u001b[36mfetch_datasets\u001b[0m:\u001b[36m69\u001b[0m - \u001b[32m\u001b[1mDataFrame saved as ./datasets.parquet\u001b[0m\n"
          ]
        }
      ]
    },
    {
      "cell_type": "markdown",
      "source": [
        "Run the following cell to Extract, Transform and Load a dataset"
      ],
      "metadata": {
        "id": "59lh7L0BtFyR"
      }
    },
    {
      "cell_type": "code",
      "source": [
        "show_datasets(searchfor=\"new\")"
      ],
      "metadata": {
        "colab": {
          "base_uri": "https://localhost:8080/",
          "height": 329,
          "referenced_widgets": [
            "7cbafdc4fdb34fb5a8130029517e2dc5",
            "c907e44528314b17a07ba00c71eff9a7",
            "71abdac254d04757ad7b9e7564fbd67f"
          ]
        },
        "id": "kTeYSba2oxZ0",
        "outputId": "273eef8e-ac9e-45ac-cfa1-8e4759d7b74d"
      },
      "execution_count": 32,
      "outputs": [
        {
          "output_type": "display_data",
          "data": {
            "text/plain": [
              "Dropdown(description='Datasets', layout=Layout(width='50%'), options=(('Click to Select a Dataset', ''), ('201…"
            ],
            "application/vnd.jupyter.widget-view+json": {
              "version_major": 2,
              "version_minor": 0,
              "model_id": "7cbafdc4fdb34fb5a8130029517e2dc5"
            }
          },
          "metadata": {}
        },
        {
          "output_type": "stream",
          "name": "stderr",
          "text": [
            "\r  0%|          | 0/1 [00:00<?, ?it/s]\u001b[32m2023-10-21 20:50:34.510\u001b[0m | \u001b[1mINFO    \u001b[0m | \u001b[36m__main__\u001b[0m:\u001b[36mextract\u001b[0m:\u001b[36m23\u001b[0m - \u001b[1mEXTRACT STARTED!\u001b[0m\n",
            "\u001b[32m2023-10-21 20:50:34.511\u001b[0m | \u001b[1mINFO    \u001b[0m | \u001b[36m__main__\u001b[0m:\u001b[36mextract\u001b[0m:\u001b[36m26\u001b[0m - \u001b[1mSelected item URL: https://data.cityofnewyork.us/api/views/43nn-pn8j/rows.csv?accessType=DOWNLOAD\u001b[0m\n",
            "\u001b[32m2023-10-21 20:50:34.512\u001b[0m | \u001b[1mINFO    \u001b[0m | \u001b[36m__main__\u001b[0m:\u001b[36mextract\u001b[0m:\u001b[36m27\u001b[0m - \u001b[1mSelected item name: DOHMH New York City Restaurant Inspection Results\u001b[0m\n",
            "\u001b[32m2023-10-21 20:50:34.515\u001b[0m | \u001b[1mINFO    \u001b[0m | \u001b[36m__main__\u001b[0m:\u001b[36mextract\u001b[0m:\u001b[36m36\u001b[0m - \u001b[1mSelected item URL (Formatted): https://data.cityofnewyork.us/api/views/43nn-pn8j/rows.csv\u001b[0m\n",
            "\u001b[32m2023-10-21 20:50:34.517\u001b[0m | \u001b[1mINFO    \u001b[0m | \u001b[36m__main__\u001b[0m:\u001b[36mextract\u001b[0m:\u001b[36m37\u001b[0m - \u001b[1mSelected item name (Formatted): dohmh_new_york_city_restaurant_inspection_results\u001b[0m\n"
          ]
        },
        {
          "output_type": "stream",
          "name": "stdout",
          "text": [
            "\n"
          ]
        },
        {
          "output_type": "stream",
          "name": "stderr",
          "text": [
            "\u001b[32m2023-10-21 20:50:48.694\u001b[0m | \u001b[32m\u001b[1mSUCCESS \u001b[0m | \u001b[36m__main__\u001b[0m:\u001b[36mextract\u001b[0m:\u001b[36m54\u001b[0m - \u001b[32m\u001b[1mData successfully fetched and saved at ./data/raw/dohmh_new_york_city_restaurant_inspection_results_2023_10.csv\u001b[0m\n",
            "\u001b[32m2023-10-21 20:50:48.697\u001b[0m | \u001b[1mINFO    \u001b[0m | \u001b[36m__main__\u001b[0m:\u001b[36mtransform\u001b[0m:\u001b[36m18\u001b[0m - \u001b[1mTRANSFORM STARTED!\u001b[0m\n",
            "\u001b[32m2023-10-21 20:50:50.059\u001b[0m | \u001b[32m\u001b[1mSUCCESS \u001b[0m | \u001b[36m__main__\u001b[0m:\u001b[36mtransform\u001b[0m:\u001b[36m39\u001b[0m - \u001b[32m\u001b[1mData successfully transformed and saved at: ./data/interim/dohmh_new_york_city_restaurant_inspection_results_2023_10.csv\u001b[0m\n",
            "\u001b[32m2023-10-21 20:50:50.060\u001b[0m | \u001b[1mINFO    \u001b[0m | \u001b[36m__main__\u001b[0m:\u001b[36mload\u001b[0m:\u001b[36m17\u001b[0m - \u001b[1mLOAD STARTED!\u001b[0m\n",
            "\u001b[32m2023-10-21 20:51:21.852\u001b[0m | \u001b[32m\u001b[1mSUCCESS \u001b[0m | \u001b[36m__main__\u001b[0m:\u001b[36mload\u001b[0m:\u001b[36m32\u001b[0m - \u001b[32m\u001b[1mReport successfully created\u001b[0m\n"
          ]
        },
        {
          "output_type": "stream",
          "name": "stdout",
          "text": [
            "Report has been saved to data/reports/dohmh_new_york_city_restaurant_inspection_results_2023_10_report.html!\n"
          ]
        },
        {
          "output_type": "stream",
          "name": "stderr",
          "text": [
            "\u001b[32m2023-10-21 20:51:22.454\u001b[0m | \u001b[32m\u001b[1mSUCCESS \u001b[0m | \u001b[36m__main__\u001b[0m:\u001b[36mload\u001b[0m:\u001b[36m37\u001b[0m - \u001b[32m\u001b[1mData successfully loaded at ./data/processed/dohmh_new_york_city_restaurant_inspection_results_2023_10.csv\u001b[0m\n",
            "100%|██████████| 1/1 [00:47<00:00, 47.96s/it]\n",
            "\u001b[32m2023-10-21 20:51:22.473\u001b[0m | \u001b[32m\u001b[1mSUCCESS \u001b[0m | \u001b[36m__main__\u001b[0m:\u001b[36metl_workflow\u001b[0m:\u001b[36m26\u001b[0m - \u001b[32m\u001b[1mETL COMPLETED!\u001b[0m\n"
          ]
        }
      ]
    },
    {
      "cell_type": "markdown",
      "source": [
        "Run the following cell to see data"
      ],
      "metadata": {
        "id": "lHX-32hkQ4B-"
      }
    },
    {
      "cell_type": "code",
      "source": [
        "pl.read_csv(\"./data/processed/dohmh_new_york_city_restaurant_inspection_results_2023_10.csv\", ignore_errors=True, try_parse_dates=True).head()"
      ],
      "metadata": {
        "id": "Y3qDRi2dW6ij",
        "colab": {
          "base_uri": "https://localhost:8080/",
          "height": 413
        },
        "outputId": "c4403391-034c-487a-f358-9a8e188282d7"
      },
      "execution_count": 33,
      "outputs": [
        {
          "output_type": "execute_result",
          "data": {
            "text/plain": [
              "shape: (5, 27)\n",
              "┌──────────┬───────────────┬───────────┬──────────┬───┬─────────┬────────────┬──────┬──────────────┐\n",
              "│ camis    ┆ dba           ┆ boro      ┆ building ┆ … ┆ bin     ┆ bbl        ┆ nta  ┆ location_poi │\n",
              "│ ---      ┆ ---           ┆ ---       ┆ ---      ┆   ┆ ---     ┆ ---        ┆ ---  ┆ nt1          │\n",
              "│ i64      ┆ str           ┆ str       ┆ str      ┆   ┆ i64     ┆ i64        ┆ str  ┆ ---          │\n",
              "│          ┆               ┆           ┆          ┆   ┆         ┆            ┆      ┆ str          │\n",
              "╞══════════╪═══════════════╪═══════════╪══════════╪═══╪═════════╪════════════╪══════╪══════════════╡\n",
              "│ 50007015 ┆ EMIR PALACE   ┆ Brooklyn  ┆ 4210     ┆ … ┆ 3127571 ┆ 3054090036 ┆ BK41 ┆ null         │\n",
              "│ 50124268 ┆ SOFIA PIZZA   ┆ Manhattan ┆ 989      ┆ … ┆ 1039951 ┆ 1013470030 ┆ MN19 ┆ null         │\n",
              "│          ┆ SHOPPE        ┆           ┆          ┆   ┆         ┆            ┆      ┆              │\n",
              "│ 50139255 ┆ SUSHI YA      ┆ Queens    ┆ 9711     ┆ … ┆ 4050459 ┆ 4020900064 ┆ QN18 ┆ null         │\n",
              "│          ┆ JAPANESE      ┆           ┆          ┆   ┆         ┆            ┆      ┆              │\n",
              "│          ┆ RESTAURANT &  ┆           ┆          ┆   ┆         ┆            ┆      ┆              │\n",
              "│          ┆ B…            ┆           ┆          ┆   ┆         ┆            ┆      ┆              │\n",
              "│ 50134230 ┆ KRAAM         ┆ Manhattan ┆ 254      ┆ … ┆ 1015730 ┆ 1008300040 ┆ MN17 ┆ null         │\n",
              "│ 41408361 ┆ BEKY BAKERY   ┆ Queens    ┆ 3778     ┆ … ┆ 4044240 ┆ 4017680047 ┆ QN26 ┆ null         │\n",
              "│          ┆ AND COFFEE    ┆           ┆          ┆   ┆         ┆            ┆      ┆              │\n",
              "│          ┆ SHOP          ┆           ┆          ┆   ┆         ┆            ┆      ┆              │\n",
              "└──────────┴───────────────┴───────────┴──────────┴───┴─────────┴────────────┴──────┴──────────────┘"
            ],
            "text/html": [
              "<div><style>\n",
              ".dataframe > thead > tr > th,\n",
              ".dataframe > tbody > tr > td {\n",
              "  text-align: right;\n",
              "  white-space: pre-wrap;\n",
              "}\n",
              "</style>\n",
              "<small>shape: (5, 27)</small><table border=\"1\" class=\"dataframe\"><thead><tr><th>camis</th><th>dba</th><th>boro</th><th>building</th><th>street</th><th>zipcode</th><th>phone</th><th>cuisine_description</th><th>inspection_date</th><th>action</th><th>violation_code</th><th>violation_description</th><th>critical_flag</th><th>score</th><th>grade</th><th>grade_date</th><th>record_date</th><th>inspection_type</th><th>latitude</th><th>longitude</th><th>community_board</th><th>council_district</th><th>census_tract</th><th>bin</th><th>bbl</th><th>nta</th><th>location_point1</th></tr><tr><td>i64</td><td>str</td><td>str</td><td>str</td><td>str</td><td>i64</td><td>i64</td><td>str</td><td>date</td><td>str</td><td>str</td><td>str</td><td>str</td><td>i64</td><td>str</td><td>date</td><td>str</td><td>str</td><td>f64</td><td>f64</td><td>i64</td><td>i64</td><td>i64</td><td>i64</td><td>i64</td><td>str</td><td>str</td></tr></thead><tbody><tr><td>50007015</td><td>&quot;EMIR PALACE&quot;</td><td>&quot;Brooklyn&quot;</td><td>&quot;4210&quot;</td><td>&quot;18 AVENUE&quot;</td><td>11218</td><td>7184310007</td><td>&quot;Middle Eastern…</td><td>2022-11-04</td><td>&quot;Establishment …</td><td>null</td><td>null</td><td>&quot;Not Applicable…</td><td>0</td><td>&quot;Z&quot;</td><td>2022-11-04</td><td>&quot;10/20/2023&quot;</td><td>&quot;Cycle Inspecti…</td><td>40.631598</td><td>-73.975368</td><td>314</td><td>40</td><td>48400</td><td>3127571</td><td>3054090036</td><td>&quot;BK41&quot;</td><td>null</td></tr><tr><td>50124268</td><td>&quot;SOFIA PIZZA SH…</td><td>&quot;Manhattan&quot;</td><td>&quot;989&quot;</td><td>&quot;1 AVENUE&quot;</td><td>10022</td><td>2128888816</td><td>null</td><td>1900-01-01</td><td>null</td><td>null</td><td>null</td><td>&quot;Not Applicable…</td><td>null</td><td>null</td><td>null</td><td>&quot;10/20/2023&quot;</td><td>null</td><td>40.75657</td><td>-73.964193</td><td>106</td><td>5</td><td>10800</td><td>1039951</td><td>1013470030</td><td>&quot;MN19&quot;</td><td>null</td></tr><tr><td>50139255</td><td>&quot;SUSHI YA JAPAN…</td><td>&quot;Queens&quot;</td><td>&quot;9711&quot;</td><td>&quot;QUEENS BLVD&quot;</td><td>11374</td><td>7188061228</td><td>null</td><td>1900-01-01</td><td>null</td><td>null</td><td>null</td><td>&quot;Not Applicable…</td><td>null</td><td>null</td><td>null</td><td>&quot;10/20/2023&quot;</td><td>null</td><td>40.729653</td><td>-73.861035</td><td>406</td><td>29</td><td>71701</td><td>4050459</td><td>4020900064</td><td>&quot;QN18&quot;</td><td>null</td></tr><tr><td>50134230</td><td>&quot;KRAAM&quot;</td><td>&quot;Manhattan&quot;</td><td>&quot;254&quot;</td><td>&quot;5 AVENUE&quot;</td><td>10001</td><td>6466784586</td><td>null</td><td>1900-01-01</td><td>null</td><td>null</td><td>null</td><td>&quot;Not Applicable…</td><td>null</td><td>null</td><td>null</td><td>&quot;10/20/2023&quot;</td><td>null</td><td>40.744901</td><td>-73.987145</td><td>105</td><td>4</td><td>7600</td><td>1015730</td><td>1008300040</td><td>&quot;MN17&quot;</td><td>null</td></tr><tr><td>41408361</td><td>&quot;BEKY BAKERY AN…</td><td>&quot;Queens&quot;</td><td>&quot;3778&quot;</td><td>&quot;103 STREET&quot;</td><td>11368</td><td>7183970329</td><td>&quot;Spanish&quot;</td><td>2020-06-01</td><td>&quot;No violations …</td><td>null</td><td>null</td><td>&quot;Not Applicable…</td><td>null</td><td>null</td><td>null</td><td>&quot;10/20/2023&quot;</td><td>&quot;Administrative…</td><td>40.752738</td><td>-73.864188</td><td>403</td><td>21</td><td>40500</td><td>4044240</td><td>4017680047</td><td>&quot;QN26&quot;</td><td>null</td></tr></tbody></table></div>"
            ]
          },
          "metadata": {},
          "execution_count": 33
        }
      ]
    },
    {
      "cell_type": "markdown",
      "source": [
        "Run the following cell to remove all files keeping some files"
      ],
      "metadata": {
        "id": "SVVxDSta3o36"
      }
    },
    {
      "cell_type": "code",
      "source": [
        "# Remove all files in the interim directory except \"table.csv\"\n",
        "#!find ./data/interim/ -type f ! -name 'table.csv' -exec rm -f {} +\n",
        "\n",
        "# Remove all files in the raw directory except \"table.csv\"\n",
        "#!find ./data/raw/ -type f ! -name 'table.csv' -exec rm -f {} +\n",
        "\n",
        "# Remove all files in the processed directory except \"table.csv\"\n",
        "#!find ./data/processed/ -type f ! -name 'table.csv' -exec rm -f {} +\n",
        "\n",
        "# Remove all files in the reports directory except \"report.html\"\n",
        "#!find ./data/reports/ -type f ! -name 'report.html' -exec rm -f {} +"
      ],
      "metadata": {
        "id": "tBKDDQLOGIdz"
      },
      "execution_count": null,
      "outputs": []
    },
    {
      "cell_type": "markdown",
      "source": [
        "Run the following cell to remove all files"
      ],
      "metadata": {
        "id": "IJyCIOds3yZK"
      }
    },
    {
      "cell_type": "code",
      "source": [
        "!rm -rf ./data/interim/*\n",
        "!rm -rf ./data/raw/*\n",
        "!rm -rf ./data/processed/*\n",
        "!rm -rf ./data/reports/*"
      ],
      "metadata": {
        "id": "85XPAvqn9gVD"
      },
      "execution_count": null,
      "outputs": []
    },
    {
      "cell_type": "markdown",
      "source": [
        "## Data Quality\n",
        "\n",
        "Attributes of Data Quality\n",
        "\n",
        "* Accuracy of data\n",
        "* Completeness of data\n",
        "* Timeliness of data\n",
        "* Consistency of data"
      ],
      "metadata": {
        "id": "uoYj6wZH7Wha"
      }
    },
    {
      "cell_type": "markdown",
      "source": [
        "### Missing values"
      ],
      "metadata": {
        "id": "FvPEhs6e8fYH"
      }
    },
    {
      "cell_type": "code",
      "source": [
        "import matplotlib.pyplot as plt"
      ],
      "metadata": {
        "id": "3fkKAw-c7WED"
      },
      "execution_count": 34,
      "outputs": []
    },
    {
      "cell_type": "markdown",
      "source": [
        "Create SQL context with Polars to execute SQL queries"
      ],
      "metadata": {
        "id": "_Pm4HF7jG8qg"
      }
    },
    {
      "cell_type": "code",
      "source": [
        "df = pl.scan_csv(\"./data/processed/dohmh_new_york_city_restaurant_inspection_results_2023_10.csv\")\n",
        "ctx = pl.SQLContext(inspection= df,\n",
        "                     eager_execution=True)"
      ],
      "metadata": {
        "id": "3y0LaIDYESP7"
      },
      "execution_count": 370,
      "outputs": []
    },
    {
      "cell_type": "markdown",
      "source": [
        "### Preview"
      ],
      "metadata": {
        "id": "PZ0Uu_4bTEVC"
      }
    },
    {
      "cell_type": "code",
      "source": [
        "query = \"\"\"\n",
        "  SELECT * FROM inspection LIMIT 5\n",
        "\"\"\"\n",
        "\n",
        "ctx.execute(query)"
      ],
      "metadata": {
        "colab": {
          "base_uri": "https://localhost:8080/",
          "height": 413
        },
        "id": "s6IkA5qPPuwD",
        "outputId": "1faf0274-604e-4610-8d3e-19dd6c5ed45a"
      },
      "execution_count": 371,
      "outputs": [
        {
          "output_type": "execute_result",
          "data": {
            "text/plain": [
              "shape: (5, 27)\n",
              "┌──────────┬───────────────┬───────────┬──────────┬───┬─────────┬────────────┬──────┬──────────────┐\n",
              "│ camis    ┆ dba           ┆ boro      ┆ building ┆ … ┆ bin     ┆ bbl        ┆ nta  ┆ location_poi │\n",
              "│ ---      ┆ ---           ┆ ---       ┆ ---      ┆   ┆ ---     ┆ ---        ┆ ---  ┆ nt1          │\n",
              "│ i64      ┆ str           ┆ str       ┆ str      ┆   ┆ i64     ┆ i64        ┆ str  ┆ ---          │\n",
              "│          ┆               ┆           ┆          ┆   ┆         ┆            ┆      ┆ str          │\n",
              "╞══════════╪═══════════════╪═══════════╪══════════╪═══╪═════════╪════════════╪══════╪══════════════╡\n",
              "│ 50007015 ┆ EMIR PALACE   ┆ Brooklyn  ┆ 4210     ┆ … ┆ 3127571 ┆ 3054090036 ┆ BK41 ┆ null         │\n",
              "│ 50124268 ┆ SOFIA PIZZA   ┆ Manhattan ┆ 989      ┆ … ┆ 1039951 ┆ 1013470030 ┆ MN19 ┆ null         │\n",
              "│          ┆ SHOPPE        ┆           ┆          ┆   ┆         ┆            ┆      ┆              │\n",
              "│ 50139255 ┆ SUSHI YA      ┆ Queens    ┆ 9711     ┆ … ┆ 4050459 ┆ 4020900064 ┆ QN18 ┆ null         │\n",
              "│          ┆ JAPANESE      ┆           ┆          ┆   ┆         ┆            ┆      ┆              │\n",
              "│          ┆ RESTAURANT &  ┆           ┆          ┆   ┆         ┆            ┆      ┆              │\n",
              "│          ┆ B…            ┆           ┆          ┆   ┆         ┆            ┆      ┆              │\n",
              "│ 50134230 ┆ KRAAM         ┆ Manhattan ┆ 254      ┆ … ┆ 1015730 ┆ 1008300040 ┆ MN17 ┆ null         │\n",
              "│ 41408361 ┆ BEKY BAKERY   ┆ Queens    ┆ 3778     ┆ … ┆ 4044240 ┆ 4017680047 ┆ QN26 ┆ null         │\n",
              "│          ┆ AND COFFEE    ┆           ┆          ┆   ┆         ┆            ┆      ┆              │\n",
              "│          ┆ SHOP          ┆           ┆          ┆   ┆         ┆            ┆      ┆              │\n",
              "└──────────┴───────────────┴───────────┴──────────┴───┴─────────┴────────────┴──────┴──────────────┘"
            ],
            "text/html": [
              "<div><style>\n",
              ".dataframe > thead > tr > th,\n",
              ".dataframe > tbody > tr > td {\n",
              "  text-align: right;\n",
              "  white-space: pre-wrap;\n",
              "}\n",
              "</style>\n",
              "<small>shape: (5, 27)</small><table border=\"1\" class=\"dataframe\"><thead><tr><th>camis</th><th>dba</th><th>boro</th><th>building</th><th>street</th><th>zipcode</th><th>phone</th><th>cuisine_description</th><th>inspection_date</th><th>action</th><th>violation_code</th><th>violation_description</th><th>critical_flag</th><th>score</th><th>grade</th><th>grade_date</th><th>record_date</th><th>inspection_type</th><th>latitude</th><th>longitude</th><th>community_board</th><th>council_district</th><th>census_tract</th><th>bin</th><th>bbl</th><th>nta</th><th>location_point1</th></tr><tr><td>i64</td><td>str</td><td>str</td><td>str</td><td>str</td><td>i64</td><td>i64</td><td>str</td><td>str</td><td>str</td><td>str</td><td>str</td><td>str</td><td>i64</td><td>str</td><td>str</td><td>str</td><td>str</td><td>f64</td><td>f64</td><td>i64</td><td>i64</td><td>i64</td><td>i64</td><td>i64</td><td>str</td><td>str</td></tr></thead><tbody><tr><td>50007015</td><td>&quot;EMIR PALACE&quot;</td><td>&quot;Brooklyn&quot;</td><td>&quot;4210&quot;</td><td>&quot;18 AVENUE&quot;</td><td>11218</td><td>7184310007</td><td>&quot;Middle Eastern…</td><td>&quot;2022-11-04&quot;</td><td>&quot;Establishment …</td><td>null</td><td>null</td><td>&quot;Not Applicable…</td><td>0</td><td>&quot;Z&quot;</td><td>&quot;2022-11-04&quot;</td><td>&quot;10/20/2023&quot;</td><td>&quot;Cycle Inspecti…</td><td>40.631598</td><td>-73.975368</td><td>314</td><td>40</td><td>48400</td><td>3127571</td><td>3054090036</td><td>&quot;BK41&quot;</td><td>null</td></tr><tr><td>50124268</td><td>&quot;SOFIA PIZZA SH…</td><td>&quot;Manhattan&quot;</td><td>&quot;989&quot;</td><td>&quot;1 AVENUE&quot;</td><td>10022</td><td>2128888816</td><td>null</td><td>&quot;1900-01-01&quot;</td><td>null</td><td>null</td><td>null</td><td>&quot;Not Applicable…</td><td>null</td><td>null</td><td>null</td><td>&quot;10/20/2023&quot;</td><td>null</td><td>40.75657</td><td>-73.964193</td><td>106</td><td>5</td><td>10800</td><td>1039951</td><td>1013470030</td><td>&quot;MN19&quot;</td><td>null</td></tr><tr><td>50139255</td><td>&quot;SUSHI YA JAPAN…</td><td>&quot;Queens&quot;</td><td>&quot;9711&quot;</td><td>&quot;QUEENS BLVD&quot;</td><td>11374</td><td>7188061228</td><td>null</td><td>&quot;1900-01-01&quot;</td><td>null</td><td>null</td><td>null</td><td>&quot;Not Applicable…</td><td>null</td><td>null</td><td>null</td><td>&quot;10/20/2023&quot;</td><td>null</td><td>40.729653</td><td>-73.861035</td><td>406</td><td>29</td><td>71701</td><td>4050459</td><td>4020900064</td><td>&quot;QN18&quot;</td><td>null</td></tr><tr><td>50134230</td><td>&quot;KRAAM&quot;</td><td>&quot;Manhattan&quot;</td><td>&quot;254&quot;</td><td>&quot;5 AVENUE&quot;</td><td>10001</td><td>6466784586</td><td>null</td><td>&quot;1900-01-01&quot;</td><td>null</td><td>null</td><td>null</td><td>&quot;Not Applicable…</td><td>null</td><td>null</td><td>null</td><td>&quot;10/20/2023&quot;</td><td>null</td><td>40.744901</td><td>-73.987145</td><td>105</td><td>4</td><td>7600</td><td>1015730</td><td>1008300040</td><td>&quot;MN17&quot;</td><td>null</td></tr><tr><td>41408361</td><td>&quot;BEKY BAKERY AN…</td><td>&quot;Queens&quot;</td><td>&quot;3778&quot;</td><td>&quot;103 STREET&quot;</td><td>11368</td><td>7183970329</td><td>&quot;Spanish&quot;</td><td>&quot;2020-06-01&quot;</td><td>&quot;No violations …</td><td>null</td><td>null</td><td>&quot;Not Applicable…</td><td>null</td><td>null</td><td>null</td><td>&quot;10/20/2023&quot;</td><td>&quot;Administrative…</td><td>40.752738</td><td>-73.864188</td><td>403</td><td>21</td><td>40500</td><td>4044240</td><td>4017680047</td><td>&quot;QN26&quot;</td><td>null</td></tr></tbody></table></div>"
            ]
          },
          "metadata": {},
          "execution_count": 371
        }
      ]
    },
    {
      "cell_type": "markdown",
      "source": [
        "### Total of inspections"
      ],
      "metadata": {
        "id": "nql7PzK1TLGX"
      }
    },
    {
      "cell_type": "code",
      "source": [
        "query = \"\"\"\n",
        "  SELECT COUNT(*) FROM inspection\n",
        "\"\"\"\n",
        "\n",
        "ctx.execute(query)\n"
      ],
      "metadata": {
        "colab": {
          "base_uri": "https://localhost:8080/",
          "height": 129
        },
        "id": "JchxFeLZFAWm",
        "outputId": "c64762f7-e90b-41ba-dfca-e98584d8617b"
      },
      "execution_count": 180,
      "outputs": [
        {
          "output_type": "execute_result",
          "data": {
            "text/plain": [
              "shape: (1, 1)\n",
              "┌────────┐\n",
              "│ count  │\n",
              "│ ---    │\n",
              "│ u32    │\n",
              "╞════════╡\n",
              "│ 207436 │\n",
              "└────────┘"
            ],
            "text/html": [
              "<div><style>\n",
              ".dataframe > thead > tr > th,\n",
              ".dataframe > tbody > tr > td {\n",
              "  text-align: right;\n",
              "  white-space: pre-wrap;\n",
              "}\n",
              "</style>\n",
              "<small>shape: (1, 1)</small><table border=\"1\" class=\"dataframe\"><thead><tr><th>count</th></tr><tr><td>u32</td></tr></thead><tbody><tr><td>207436</td></tr></tbody></table></div>"
            ]
          },
          "metadata": {},
          "execution_count": 180
        }
      ]
    },
    {
      "cell_type": "markdown",
      "source": [
        "### Number of distinct restaurants"
      ],
      "metadata": {
        "id": "dETJOSUtXO_n"
      }
    },
    {
      "cell_type": "code",
      "source": [
        "query = \"\"\"\n",
        "  SELECT\n",
        "    COUNT(DISTINCT(dba)) AS total\n",
        "  FROM inspection\n",
        "\"\"\"\n",
        "\n",
        "ctx.execute(query)"
      ],
      "metadata": {
        "colab": {
          "base_uri": "https://localhost:8080/",
          "height": 129
        },
        "id": "r7oH9ctRW6Wf",
        "outputId": "1c4ef496-679a-460d-cd8d-a0eb6392389e"
      },
      "execution_count": 218,
      "outputs": [
        {
          "output_type": "execute_result",
          "data": {
            "text/plain": [
              "shape: (1, 1)\n",
              "┌───────┐\n",
              "│ total │\n",
              "│ ---   │\n",
              "│ u32   │\n",
              "╞═══════╡\n",
              "│ 22116 │\n",
              "└───────┘"
            ],
            "text/html": [
              "<div><style>\n",
              ".dataframe > thead > tr > th,\n",
              ".dataframe > tbody > tr > td {\n",
              "  text-align: right;\n",
              "  white-space: pre-wrap;\n",
              "}\n",
              "</style>\n",
              "<small>shape: (1, 1)</small><table border=\"1\" class=\"dataframe\"><thead><tr><th>total</th></tr><tr><td>u32</td></tr></thead><tbody><tr><td>22116</td></tr></tbody></table></div>"
            ]
          },
          "metadata": {},
          "execution_count": 218
        }
      ]
    },
    {
      "cell_type": "markdown",
      "source": [
        "### Number of not null distinct restaurants"
      ],
      "metadata": {
        "id": "-nWsPAzgoOHP"
      }
    },
    {
      "cell_type": "code",
      "source": [
        "query = \"\"\"\n",
        "  SELECT\n",
        "    COUNT(DISTINCT(dba))\n",
        "  FROM inspection\n",
        "  WHERE dba IS NOT NULL\n",
        "\"\"\"\n",
        "\n",
        "ctx.execute(query)"
      ],
      "metadata": {
        "colab": {
          "base_uri": "https://localhost:8080/",
          "height": 129
        },
        "id": "QZiZOObicMp_",
        "outputId": "bc020792-abb8-4f6d-eecf-731dbb23d320"
      },
      "execution_count": 106,
      "outputs": [
        {
          "output_type": "execute_result",
          "data": {
            "text/plain": [
              "shape: (1, 1)\n",
              "┌───────┐\n",
              "│ dba   │\n",
              "│ ---   │\n",
              "│ u32   │\n",
              "╞═══════╡\n",
              "│ 22115 │\n",
              "└───────┘"
            ],
            "text/html": [
              "<div><style>\n",
              ".dataframe > thead > tr > th,\n",
              ".dataframe > tbody > tr > td {\n",
              "  text-align: right;\n",
              "  white-space: pre-wrap;\n",
              "}\n",
              "</style>\n",
              "<small>shape: (1, 1)</small><table border=\"1\" class=\"dataframe\"><thead><tr><th>dba</th></tr><tr><td>u32</td></tr></thead><tbody><tr><td>22115</td></tr></tbody></table></div>"
            ]
          },
          "metadata": {},
          "execution_count": 106
        }
      ]
    },
    {
      "cell_type": "markdown",
      "source": [
        "This result indicates that some restaurants underwent more than one inspection."
      ],
      "metadata": {
        "id": "M3h_fpYbXoQq"
      }
    },
    {
      "cell_type": "markdown",
      "source": [
        "### TOP 10 restaurant more inspected"
      ],
      "metadata": {
        "id": "1FouvdaGYPjG"
      }
    },
    {
      "cell_type": "code",
      "source": [
        "query = \"\"\"\n",
        "  SELECT\n",
        "    dba AS restaurant,\n",
        "    COUNT(dba) AS total\n",
        "  FROM inspection\n",
        "  WHERE dba IS NOT NULL\n",
        "  GROUP BY dba\n",
        "  ORDER BY total DESC\n",
        "  LIMIT 10\n",
        "\"\"\"\n",
        "top_10_inspected = ctx.execute(query).sort(\"total\")\n",
        "\n",
        "plt.barh(top_10_inspected['restaurant'],\n",
        "         top_10_inspected['total'])\n",
        "plt.title(\"Top 10 restaurant by inspection\")\n",
        "plt.xlabel(\"total\")\n",
        "plt.show()"
      ],
      "metadata": {
        "colab": {
          "base_uri": "https://localhost:8080/",
          "height": 472
        },
        "id": "xM2gGkY1YNzc",
        "outputId": "3a0f6982-bb5b-4dec-c5ab-ec5a4e5643c4"
      },
      "execution_count": 174,
      "outputs": [
        {
          "output_type": "display_data",
          "data": {
            "text/plain": [
              "<Figure size 640x480 with 1 Axes>"
            ],
            "image/png": "[encoded data removed]"
          },
          "metadata": {}
        }
      ]
    },
    {
      "cell_type": "markdown",
      "source": [
        "### Number of restaurants by neighborhood"
      ],
      "metadata": {
        "id": "T-xc2t7DTRe-"
      }
    },
    {
      "cell_type": "code",
      "source": [
        "query = \"\"\"\n",
        "  SELECT\n",
        "    COUNT(DISTINCT(dba)) AS total,\n",
        "    boro AS neighborhood\n",
        "  FROM inspection\n",
        "  WHERE boro != '0'\n",
        "  GROUP BY boro\n",
        "  ORDER BY total ASC\n",
        "\"\"\"\n",
        "\n",
        "restaurant_by_neighborhood = ctx.execute(query)\n",
        "\n",
        "plt.bar(\n",
        "         restaurant_by_neighborhood[\"neighborhood\"],\n",
        "         restaurant_by_neighborhood[\"total\"])\n",
        "plt.title(\"Number of restaurants by neighborhood\")\n",
        "plt.ylabel('Total')\n",
        "plt.show()"
      ],
      "metadata": {
        "colab": {
          "base_uri": "https://localhost:8080/",
          "height": 452
        },
        "id": "IlrYAMSfVsqF",
        "outputId": "f488955a-9418-411a-ef9a-8dafd3014980"
      },
      "execution_count": 209,
      "outputs": [
        {
          "output_type": "display_data",
          "data": {
            "text/plain": [
              "<Figure size 640x480 with 1 Axes>"
            ],
            "image/png": "[encoded data removed]"
          },
          "metadata": {}
        }
      ]
    },
    {
      "cell_type": "markdown",
      "source": [
        "### Number of inspection by neighborhood"
      ],
      "metadata": {
        "id": "Eogb9h4ltKSj"
      }
    },
    {
      "cell_type": "code",
      "source": [
        "query = \"\"\"\n",
        "SELECT\n",
        "  boro AS neighborhood,\n",
        "  COUNT(*) AS total\n",
        "FROM inspection\n",
        "WHERE boro != '0'\n",
        "GROUP BY boro\n",
        "ORDER BY total\n",
        "\"\"\"\n",
        "\n",
        "inspection_by_neighborhood = ctx.execute(query)\n",
        "\n",
        "plt.bar(inspection_by_neighborhood['neighborhood'],\n",
        "        inspection_by_neighborhood['total'])\n",
        "\n",
        "plt.show()"
      ],
      "metadata": {
        "colab": {
          "base_uri": "https://localhost:8080/",
          "height": 432
        },
        "id": "Eu_E2M2xtNnK",
        "outputId": "7c404fb1-0926-4ef1-da99-609aaeb48d00"
      },
      "execution_count": 204,
      "outputs": [
        {
          "output_type": "display_data",
          "data": {
            "text/plain": [
              "<Figure size 640x480 with 1 Axes>"
            ],
            "image/png": "[encoded data removed]"
          },
          "metadata": {}
        }
      ]
    },
    {
      "cell_type": "markdown",
      "source": [
        "### Max, Min and Average score"
      ],
      "metadata": {
        "id": "Nz0ooSSnoEL4"
      }
    },
    {
      "cell_type": "code",
      "source": [
        "query = \"\"\"\n",
        "SELECT\n",
        "    MAX(score) AS max_score,\n",
        "    MIN(score) AS min_score,\n",
        "    AVG(score) AS avg_score\n",
        "  FROM inspection\n",
        "\"\"\"\n",
        "\n",
        "ctx.execute(query).to_pandas()"
      ],
      "metadata": {
        "colab": {
          "base_uri": "https://localhost:8080/",
          "height": 81
        },
        "id": "KGdyr8ppndcq",
        "outputId": "d5d4552a-ac82-470d-fca5-5541b5031839"
      },
      "execution_count": 407,
      "outputs": [
        {
          "output_type": "execute_result",
          "data": {
            "text/plain": [
              "   max_score  min_score  avg_score\n",
              "0        168          0  22.732605"
            ],
            "text/html": [
              "\n",
              "  <div id=\"df-8881e06c-d6c6-4d18-b26e-1912a9166f7d\" class=\"colab-df-container\">\n",
              "    <div>\n",
              "<style scoped>\n",
              "    .dataframe tbody tr th:only-of-type {\n",
              "        vertical-align: middle;\n",
              "    }\n",
              "\n",
              "    .dataframe tbody tr th {\n",
              "        vertical-align: top;\n",
              "    }\n",
              "\n",
              "    .dataframe thead th {\n",
              "        text-align: right;\n",
              "    }\n",
              "</style>\n",
              "<table border=\"1\" class=\"dataframe\">\n",
              "  <thead>\n",
              "    <tr style=\"text-align: right;\">\n",
              "      <th></th>\n",
              "      <th>max_score</th>\n",
              "      <th>min_score</th>\n",
              "      <th>avg_score</th>\n",
              "    </tr>\n",
              "  </thead>\n",
              "  <tbody>\n",
              "    <tr>\n",
              "      <th>0</th>\n",
              "      <td>168</td>\n",
              "      <td>0</td>\n",
              "      <td>22.732605</td>\n",
              "    </tr>\n",
              "  </tbody>\n",
              "</table>\n",
              "</div>\n",
              "    <div class=\"colab-df-buttons\">\n",
              "\n",
              "  <div class=\"colab-df-container\">\n",
              "    <button class=\"colab-df-convert\" onclick=\"convertToInteractive('df-8881e06c-d6c6-4d18-b26e-1912a9166f7d')\"\n",
              "            title=\"Convert this dataframe to an interactive table.\"\n",
              "            style=\"display:none;\">\n",
              "\n",
              "  <svg xmlns=\"http://www.w3.org/2000/svg\" height=\"24px\" viewBox=\"0 -960 960 960\">\n",
              "    <path d=\"M120-120v-720h720v720H120Zm60-500h600v-160H180v160Zm220 220h160v-160H400v160Zm0 220h160v-160H400v160ZM180-400h160v-160H180v160Zm440 0h160v-160H620v160ZM180-180h160v-160H180v160Zm440 0h160v-160H620v160Z\"/>\n",
              "  </svg>\n",
              "    </button>\n",
              "\n",
              "  <style>\n",
              "    .colab-df-container {\n",
              "      display:flex;\n",
              "      gap: 12px;\n",
              "    }\n",
              "\n",
              "    .colab-df-convert {\n",
              "      background-color: #E8F0FE;\n",
              "      border: none;\n",
              "      border-radius: 50%;\n",
              "      cursor: pointer;\n",
              "      display: none;\n",
              "      fill: #1967D2;\n",
              "      height: 32px;\n",
              "      padding: 0 0 0 0;\n",
              "      width: 32px;\n",
              "    }\n",
              "\n",
              "    .colab-df-convert:hover {\n",
              "      background-color: #E2EBFA;\n",
              "      box-shadow: 0px 1px 2px rgba(60, 64, 67, 0.3), 0px 1px 3px 1px rgba(60, 64, 67, 0.15);\n",
              "      fill: #174EA6;\n",
              "    }\n",
              "\n",
              "    .colab-df-buttons div {\n",
              "      margin-bottom: 4px;\n",
              "    }\n",
              "\n",
              "    [theme=dark] .colab-df-convert {\n",
              "      background-color: #3B4455;\n",
              "      fill: #D2E3FC;\n",
              "    }\n",
              "\n",
              "    [theme=dark] .colab-df-convert:hover {\n",
              "      background-color: #434B5C;\n",
              "      box-shadow: 0px 1px 3px 1px rgba(0, 0, 0, 0.15);\n",
              "      filter: drop-shadow(0px 1px 2px rgba(0, 0, 0, 0.3));\n",
              "      fill: #FFFFFF;\n",
              "    }\n",
              "  </style>\n",
              "\n",
              "    <script>\n",
              "      const buttonEl =\n",
              "        document.querySelector('#df-8881e06c-d6c6-4d18-b26e-1912a9166f7d button.colab-df-convert');\n",
              "      buttonEl.style.display =\n",
              "        google.colab.kernel.accessAllowed ? 'block' : 'none';\n",
              "\n",
              "      async function convertToInteractive(key) {\n",
              "        const element = document.querySelector('#df-8881e06c-d6c6-4d18-b26e-1912a9166f7d');\n",
              "        const dataTable =\n",
              "          await google.colab.kernel.invokeFunction('convertToInteractive',\n",
              "                                                    [key], {});\n",
              "        if (!dataTable) return;\n",
              "\n",
              "        const docLinkHtml = 'Like what you see? Visit the ' +\n",
              "          '<a target=\"_blank\" href=https://colab.research.google.com/notebooks/data_table.ipynb>data table notebook</a>'\n",
              "          + ' to learn more about interactive tables.';\n",
              "        element.innerHTML = '';\n",
              "        dataTable['output_type'] = 'display_data';\n",
              "        await google.colab.output.renderOutput(dataTable, element);\n",
              "        const docLink = document.createElement('div');\n",
              "        docLink.innerHTML = docLinkHtml;\n",
              "        element.appendChild(docLink);\n",
              "      }\n",
              "    </script>\n",
              "  </div>\n",
              "\n",
              "    </div>\n",
              "  </div>\n"
            ]
          },
          "metadata": {},
          "execution_count": 407
        }
      ]
    },
    {
      "cell_type": "markdown",
      "source": [
        "### Top 10 Best and Worst restaurant by score (Above the Average=23)"
      ],
      "metadata": {
        "id": "VfE3TNSPpGrE"
      }
    },
    {
      "cell_type": "code",
      "source": [
        "import numpy as np\n",
        "\n",
        "query = f\"\"\"\n",
        "  SELECT\n",
        "    dba AS restaurant,\n",
        "    boro AS neighborhood,\n",
        "    ROUND(AVG(score)) AS avg_score,\n",
        "    MAX(score) AS max_score,\n",
        "    MIN(score) AS min_score\n",
        "  FROM inspection\n",
        "  WHERE (score IS NOT NULL) AND (boro != '0')\n",
        "  GROUP BY dba, boro\n",
        "  HAVING avg_score > {23}\n",
        "\"\"\"\n",
        "\n",
        "score_df = ctx.execute(query).lazy()\n",
        "\n",
        "top_10_best_score = score_df.top_k(10,\n",
        "                                   by=\"avg_score\",\n",
        "                                   descending=False).sort(by=\"avg_score\").collect()\n",
        "\n",
        "\n",
        "# Create a unique color for each restaurant\n",
        "unique_restaurants = top_10_best_score['restaurant'].unique()\n",
        "colors = plt.cm.viridis(np.linspace(0, 1, len(unique_restaurants)))\n",
        "\n",
        "plt.figure(figsize=(10, 6))\n",
        "\n",
        "# Scatter plot with unique colors for each restaurant\n",
        "for i, restaurant in enumerate(unique_restaurants):\n",
        "    subset = top_10_best_score.filter(pl.col('restaurant') == restaurant)\n",
        "    plt.scatter(subset['neighborhood'], subset['avg_score'],\n",
        "                s=120, c=[colors[i]], label=restaurant, alpha=0.5)\n",
        "\n",
        "plt.xlabel('Neighborhood')\n",
        "plt.ylabel('Score')\n",
        "plt.title('Top 10 Best Restaurant Scores by Neighborhood')\n",
        "plt.xticks(rotation=45)\n",
        "\n",
        "# Annotate restaurant names near the data points\n",
        "for row in top_10_best_score.iter_rows(named=True):\n",
        "    plt.annotate(row['restaurant'], (row['neighborhood'],\n",
        "                                     row['avg_score']),\n",
        "                  fontsize=8,\n",
        "                  ha='center', va='baseline')\n",
        "\n",
        "# Add a legend to identify restaurants\n",
        "legend = plt.legend(loc='upper left', bbox_to_anchor=(1, 1))\n",
        "\n",
        "plt.show()"
      ],
      "metadata": {
        "colab": {
          "base_uri": "https://localhost:8080/",
          "height": 588
        },
        "id": "bWo9vYaxWp1x",
        "outputId": "b6c21e15-20e7-487b-8fd3-d9d0925c617e"
      },
      "execution_count": 393,
      "outputs": [
        {
          "output_type": "display_data",
          "data": {
            "text/plain": [
              "<Figure size 1000x600 with 1 Axes>"
            ],
            "image/png": "[encoded data removed]"
          },
          "metadata": {}
        }
      ]
    },
    {
      "cell_type": "code",
      "source": [
        "rank_score = pl.from_arrow(duckdb.query(\"\"\"\n",
        "  SELECT\n",
        "     dba AS restaurant,\n",
        "     boro AS neighborhood,\n",
        "     DENSE_RANK() OVER (ORDER BY AVG(score)) AS rank\n",
        "  FROM df\n",
        "  WHERE (score IS NOT NULL) AND (boro != '0')\n",
        "  GROUP BY dba, boro\n",
        "  ORDER BY rank DESC\n",
        "\"\"\").arrow())\n",
        "\n",
        "rank_score.lazy().sort(by=\"rank\", descending=True).limit(10).collect().to_pandas()\n"
      ],
      "metadata": {
        "colab": {
          "base_uri": "https://localhost:8080/",
          "height": 352
        },
        "id": "5Bx2u3brJn2T",
        "outputId": "92825555-aafb-4e1f-c5d5-d47922f109e0"
      },
      "execution_count": 405,
      "outputs": [
        {
          "output_type": "execute_result",
          "data": {
            "text/plain": [
              "                      restaurant neighborhood  rank\n",
              "0           AFRA SMAK/CAFE DACHA     Brooklyn  4062\n",
              "1         SWEET MAMA'S SOUL FOOD    Manhattan  4061\n",
              "2  PROSPECT PARK WILDLIFE CENTER     Brooklyn  4060\n",
              "3    The original square of soho     Brooklyn  4060\n",
              "4                  PLANT BLOSSOM    Manhattan  4059\n",
              "5     DELILICIOUS KITCHEN & CAFE       Queens  4058\n",
              "6                    OMONIA CAFE    Manhattan  4057\n",
              "7    MEEM SPICY GROCERY AND DELI    Manhattan  4056\n",
              "8                          KALYE    Manhattan  4055\n",
              "9       TONY'S BILLIARD AND CAFE        Bronx  4054"
            ],
            "text/html": [
              "\n",
              "  <div id=\"df-d8661f77-a60c-4e32-9bbf-962c1c9a7300\" class=\"colab-df-container\">\n",
              "    <div>\n",
              "<style scoped>\n",
              "    .dataframe tbody tr th:only-of-type {\n",
              "        vertical-align: middle;\n",
              "    }\n",
              "\n",
              "    .dataframe tbody tr th {\n",
              "        vertical-align: top;\n",
              "    }\n",
              "\n",
              "    .dataframe thead th {\n",
              "        text-align: right;\n",
              "    }\n",
              "</style>\n",
              "<table border=\"1\" class=\"dataframe\">\n",
              "  <thead>\n",
              "    <tr style=\"text-align: right;\">\n",
              "      <th></th>\n",
              "      <th>restaurant</th>\n",
              "      <th>neighborhood</th>\n",
              "      <th>rank</th>\n",
              "    </tr>\n",
              "  </thead>\n",
              "  <tbody>\n",
              "    <tr>\n",
              "      <th>0</th>\n",
              "      <td>AFRA SMAK/CAFE DACHA</td>\n",
              "      <td>Brooklyn</td>\n",
              "      <td>4062</td>\n",
              "    </tr>\n",
              "    <tr>\n",
              "      <th>1</th>\n",
              "      <td>SWEET MAMA'S SOUL FOOD</td>\n",
              "      <td>Manhattan</td>\n",
              "      <td>4061</td>\n",
              "    </tr>\n",
              "    <tr>\n",
              "      <th>2</th>\n",
              "      <td>PROSPECT PARK WILDLIFE CENTER</td>\n",
              "      <td>Brooklyn</td>\n",
              "      <td>4060</td>\n",
              "    </tr>\n",
              "    <tr>\n",
              "      <th>3</th>\n",
              "      <td>The original square of soho</td>\n",
              "      <td>Brooklyn</td>\n",
              "      <td>4060</td>\n",
              "    </tr>\n",
              "    <tr>\n",
              "      <th>4</th>\n",
              "      <td>PLANT BLOSSOM</td>\n",
              "      <td>Manhattan</td>\n",
              "      <td>4059</td>\n",
              "    </tr>\n",
              "    <tr>\n",
              "      <th>5</th>\n",
              "      <td>DELILICIOUS KITCHEN &amp; CAFE</td>\n",
              "      <td>Queens</td>\n",
              "      <td>4058</td>\n",
              "    </tr>\n",
              "    <tr>\n",
              "      <th>6</th>\n",
              "      <td>OMONIA CAFE</td>\n",
              "      <td>Manhattan</td>\n",
              "      <td>4057</td>\n",
              "    </tr>\n",
              "    <tr>\n",
              "      <th>7</th>\n",
              "      <td>MEEM SPICY GROCERY AND DELI</td>\n",
              "      <td>Manhattan</td>\n",
              "      <td>4056</td>\n",
              "    </tr>\n",
              "    <tr>\n",
              "      <th>8</th>\n",
              "      <td>KALYE</td>\n",
              "      <td>Manhattan</td>\n",
              "      <td>4055</td>\n",
              "    </tr>\n",
              "    <tr>\n",
              "      <th>9</th>\n",
              "      <td>TONY'S BILLIARD AND CAFE</td>\n",
              "      <td>Bronx</td>\n",
              "      <td>4054</td>\n",
              "    </tr>\n",
              "  </tbody>\n",
              "</table>\n",
              "</div>\n",
              "    <div class=\"colab-df-buttons\">\n",
              "\n",
              "  <div class=\"colab-df-container\">\n",
              "    <button class=\"colab-df-convert\" onclick=\"convertToInteractive('df-d8661f77-a60c-4e32-9bbf-962c1c9a7300')\"\n",
              "            title=\"Convert this dataframe to an interactive table.\"\n",
              "            style=\"display:none;\">\n",
              "\n",
              "  <svg xmlns=\"http://www.w3.org/2000/svg\" height=\"24px\" viewBox=\"0 -960 960 960\">\n",
              "    <path d=\"M120-120v-720h720v720H120Zm60-500h600v-160H180v160Zm220 220h160v-160H400v160Zm0 220h160v-160H400v160ZM180-400h160v-160H180v160Zm440 0h160v-160H620v160ZM180-180h160v-160H180v160Zm440 0h160v-160H620v160Z\"/>\n",
              "  </svg>\n",
              "    </button>\n",
              "\n",
              "  <style>\n",
              "    .colab-df-container {\n",
              "      display:flex;\n",
              "      gap: 12px;\n",
              "    }\n",
              "\n",
              "    .colab-df-convert {\n",
              "      background-color: #E8F0FE;\n",
              "      border: none;\n",
              "      border-radius: 50%;\n",
              "      cursor: pointer;\n",
              "      display: none;\n",
              "      fill: #1967D2;\n",
              "      height: 32px;\n",
              "      padding: 0 0 0 0;\n",
              "      width: 32px;\n",
              "    }\n",
              "\n",
              "    .colab-df-convert:hover {\n",
              "      background-color: #E2EBFA;\n",
              "      box-shadow: 0px 1px 2px rgba(60, 64, 67, 0.3), 0px 1px 3px 1px rgba(60, 64, 67, 0.15);\n",
              "      fill: #174EA6;\n",
              "    }\n",
              "\n",
              "    .colab-df-buttons div {\n",
              "      margin-bottom: 4px;\n",
              "    }\n",
              "\n",
              "    [theme=dark] .colab-df-convert {\n",
              "      background-color: #3B4455;\n",
              "      fill: #D2E3FC;\n",
              "    }\n",
              "\n",
              "    [theme=dark] .colab-df-convert:hover {\n",
              "      background-color: #434B5C;\n",
              "      box-shadow: 0px 1px 3px 1px rgba(0, 0, 0, 0.15);\n",
              "      filter: drop-shadow(0px 1px 2px rgba(0, 0, 0, 0.3));\n",
              "      fill: #FFFFFF;\n",
              "    }\n",
              "  </style>\n",
              "\n",
              "    <script>\n",
              "      const buttonEl =\n",
              "        document.querySelector('#df-d8661f77-a60c-4e32-9bbf-962c1c9a7300 button.colab-df-convert');\n",
              "      buttonEl.style.display =\n",
              "        google.colab.kernel.accessAllowed ? 'block' : 'none';\n",
              "\n",
              "      async function convertToInteractive(key) {\n",
              "        const element = document.querySelector('#df-d8661f77-a60c-4e32-9bbf-962c1c9a7300');\n",
              "        const dataTable =\n",
              "          await google.colab.kernel.invokeFunction('convertToInteractive',\n",
              "                                                    [key], {});\n",
              "        if (!dataTable) return;\n",
              "\n",
              "        const docLinkHtml = 'Like what you see? Visit the ' +\n",
              "          '<a target=\"_blank\" href=https://colab.research.google.com/notebooks/data_table.ipynb>data table notebook</a>'\n",
              "          + ' to learn more about interactive tables.';\n",
              "        element.innerHTML = '';\n",
              "        dataTable['output_type'] = 'display_data';\n",
              "        await google.colab.output.renderOutput(dataTable, element);\n",
              "        const docLink = document.createElement('div');\n",
              "        docLink.innerHTML = docLinkHtml;\n",
              "        element.appendChild(docLink);\n",
              "      }\n",
              "    </script>\n",
              "  </div>\n",
              "\n",
              "\n",
              "<div id=\"df-0a5e2b6d-0c2d-45d3-b7ac-687c9cb02501\">\n",
              "  <button class=\"colab-df-quickchart\" onclick=\"quickchart('df-0a5e2b6d-0c2d-45d3-b7ac-687c9cb02501')\"\n",
              "            title=\"Suggest charts.\"\n",
              "            style=\"display:none;\">\n",
              "\n",
              "<svg xmlns=\"http://www.w3.org/2000/svg\" height=\"24px\"viewBox=\"0 0 24 24\"\n",
              "     width=\"24px\">\n",
              "    <g>\n",
              "        <path d=\"M19 3H5c-1.1 0-2 .9-2 2v14c0 1.1.9 2 2 2h14c1.1 0 2-.9 2-2V5c0-1.1-.9-2-2-2zM9 17H7v-7h2v7zm4 0h-2V7h2v10zm4 0h-2v-4h2v4z\"/>\n",
              "    </g>\n",
              "</svg>\n",
              "  </button>\n",
              "\n",
              "<style>\n",
              "  .colab-df-quickchart {\n",
              "      --bg-color: #E8F0FE;\n",
              "      --fill-color: #1967D2;\n",
              "      --hover-bg-color: #E2EBFA;\n",
              "      --hover-fill-color: #174EA6;\n",
              "      --disabled-fill-color: #AAA;\n",
              "      --disabled-bg-color: #DDD;\n",
              "  }\n",
              "\n",
              "  [theme=dark] .colab-df-quickchart {\n",
              "      --bg-color: #3B4455;\n",
              "      --fill-color: #D2E3FC;\n",
              "      --hover-bg-color: #434B5C;\n",
              "      --hover-fill-color: #FFFFFF;\n",
              "      --disabled-bg-color: #3B4455;\n",
              "      --disabled-fill-color: #666;\n",
              "  }\n",
              "\n",
              "  .colab-df-quickchart {\n",
              "    background-color: var(--bg-color);\n",
              "    border: none;\n",
              "    border-radius: 50%;\n",
              "    cursor: pointer;\n",
              "    display: none;\n",
              "    fill: var(--fill-color);\n",
              "    height: 32px;\n",
              "    padding: 0;\n",
              "    width: 32px;\n",
              "  }\n",
              "\n",
              "  .colab-df-quickchart:hover {\n",
              "    background-color: var(--hover-bg-color);\n",
              "    box-shadow: 0 1px 2px rgba(60, 64, 67, 0.3), 0 1px 3px 1px rgba(60, 64, 67, 0.15);\n",
              "    fill: var(--button-hover-fill-color);\n",
              "  }\n",
              "\n",
              "  .colab-df-quickchart-complete:disabled,\n",
              "  .colab-df-quickchart-complete:disabled:hover {\n",
              "    background-color: var(--disabled-bg-color);\n",
              "    fill: var(--disabled-fill-color);\n",
              "    box-shadow: none;\n",
              "  }\n",
              "\n",
              "  .colab-df-spinner {\n",
              "    border: 2px solid var(--fill-color);\n",
              "    border-color: transparent;\n",
              "    border-bottom-color: var(--fill-color);\n",
              "    animation:\n",
              "      spin 1s steps(1) infinite;\n",
              "  }\n",
              "\n",
              "  @keyframes spin {\n",
              "    0% {\n",
              "      border-color: transparent;\n",
              "      border-bottom-color: var(--fill-color);\n",
              "      border-left-color: var(--fill-color);\n",
              "    }\n",
              "    20% {\n",
              "      border-color: transparent;\n",
              "      border-left-color: var(--fill-color);\n",
              "      border-top-color: var(--fill-color);\n",
              "    }\n",
              "    30% {\n",
              "      border-color: transparent;\n",
              "      border-left-color: var(--fill-color);\n",
              "      border-top-color: var(--fill-color);\n",
              "      border-right-color: var(--fill-color);\n",
              "    }\n",
              "    40% {\n",
              "      border-color: transparent;\n",
              "      border-right-color: var(--fill-color);\n",
              "      border-top-color: var(--fill-color);\n",
              "    }\n",
              "    60% {\n",
              "      border-color: transparent;\n",
              "      border-right-color: var(--fill-color);\n",
              "    }\n",
              "    80% {\n",
              "      border-color: transparent;\n",
              "      border-right-color: var(--fill-color);\n",
              "      border-bottom-color: var(--fill-color);\n",
              "    }\n",
              "    90% {\n",
              "      border-color: transparent;\n",
              "      border-bottom-color: var(--fill-color);\n",
              "    }\n",
              "  }\n",
              "</style>\n",
              "\n",
              "  <script>\n",
              "    async function quickchart(key) {\n",
              "      const quickchartButtonEl =\n",
              "        document.querySelector('#' + key + ' button');\n",
              "      quickchartButtonEl.disabled = true;  // To prevent multiple clicks.\n",
              "      quickchartButtonEl.classList.add('colab-df-spinner');\n",
              "      try {\n",
              "        const charts = await google.colab.kernel.invokeFunction(\n",
              "            'suggestCharts', [key], {});\n",
              "      } catch (error) {\n",
              "        console.error('Error during call to suggestCharts:', error);\n",
              "      }\n",
              "      quickchartButtonEl.classList.remove('colab-df-spinner');\n",
              "      quickchartButtonEl.classList.add('colab-df-quickchart-complete');\n",
              "    }\n",
              "    (() => {\n",
              "      let quickchartButtonEl =\n",
              "        document.querySelector('#df-0a5e2b6d-0c2d-45d3-b7ac-687c9cb02501 button');\n",
              "      quickchartButtonEl.style.display =\n",
              "        google.colab.kernel.accessAllowed ? 'block' : 'none';\n",
              "    })();\n",
              "  </script>\n",
              "</div>\n",
              "    </div>\n",
              "  </div>\n"
            ]
          },
          "metadata": {},
          "execution_count": 405
        }
      ]
    },
    {
      "cell_type": "markdown",
      "source": [
        "Score by inspection_type"
      ],
      "metadata": {
        "id": "s65gfjhXMUfg"
      }
    },
    {
      "cell_type": "code",
      "source": [
        "query = \"\"\"\n",
        "  SELECT\n",
        "    AVG(score),\n",
        "    inspection_type\n",
        "  FROM inspection\n",
        "  GROUP BY inspection_type\n",
        "\"\"\"\n",
        "\n",
        "ctx.execute(query).to_pandas()"
      ],
      "metadata": {
        "colab": {
          "base_uri": "https://localhost:8080/",
          "height": 1000
        },
        "id": "ASgPTNuPMV34",
        "outputId": "eec3d0e0-c11f-4ab2-e9bb-21abd6a065d5"
      },
      "execution_count": 403,
      "outputs": [
        {
          "output_type": "execute_result",
          "data": {
            "text/plain": [
              "        score                                    inspection_type\n",
              "0         NaN                                               None\n",
              "1         NaN                     Trans Fat / Initial Inspection\n",
              "2         NaN  Administrative Miscellaneous / Reopening Inspe...\n",
              "3   22.140344              Cycle Inspection / Initial Inspection\n",
              "4         NaN         Smoke-Free Air Act / Compliance Inspection\n",
              "5         NaN  Administrative Miscellaneous / Compliance Insp...\n",
              "6         NaN  Administrative Miscellaneous / Initial Inspection\n",
              "7   20.852308       Inter-Agency Task Force / Initial Inspection\n",
              "8   17.234375       Pre-permit (Non-operational) / Re-inspection\n",
              "9   27.370370    Cycle Inspection / Second Compliance Inspection\n",
              "10        NaN                          Trans Fat / Re-inspection\n",
              "11        NaN            Smoke-Free Air Act / Limited Inspection\n",
              "12  31.042545  Pre-permit (Non-operational) / Initial Inspection\n",
              "13  29.387644   Pre-permit (Operational) / Compliance Inspection\n",
              "14        NaN                 Smoke-Free Air Act / Re-inspection\n",
              "15        NaN                    Calorie Posting / Re-inspection\n",
              "16  26.879834           Cycle Inspection / Compliance Inspection\n",
              "17  16.194631    Pre-permit (Operational) / Reopening Inspection\n",
              "18        NaN            Calorie Posting / Compliance Inspection\n",
              "19  27.831769      Pre-permit (Operational) / Initial Inspection\n",
              "20  19.947108                   Cycle Inspection / Re-inspection\n",
              "21        NaN  Administrative Miscellaneous / Second Complian...\n",
              "22        NaN                  Trans Fat / Compliance Inspection\n",
              "23   9.071378            Cycle Inspection / Reopening Inspection\n",
              "24        NaN       Administrative Miscellaneous / Re-inspection\n",
              "25   0.000000            Inter-Agency Task Force / Re-inspection\n",
              "26   6.000000  Pre-permit (Non-operational) / Second Complian...\n",
              "27  52.407407  Pre-permit (Non-operational) / Compliance Insp...\n",
              "28        NaN               Calorie Posting / Initial Inspection\n",
              "29        NaN            Smoke-Free Air Act / Initial Inspection\n",
              "30  23.609524  Pre-permit (Operational) / Second Compliance I...\n",
              "31  22.799310           Pre-permit (Operational) / Re-inspection"
            ],
            "text/html": [
              "\n",
              "  <div id=\"df-f64b9f7c-664c-4ad5-8844-e3eef297f884\" class=\"colab-df-container\">\n",
              "    <div>\n",
              "<style scoped>\n",
              "    .dataframe tbody tr th:only-of-type {\n",
              "        vertical-align: middle;\n",
              "    }\n",
              "\n",
              "    .dataframe tbody tr th {\n",
              "        vertical-align: top;\n",
              "    }\n",
              "\n",
              "    .dataframe thead th {\n",
              "        text-align: right;\n",
              "    }\n",
              "</style>\n",
              "<table border=\"1\" class=\"dataframe\">\n",
              "  <thead>\n",
              "    <tr style=\"text-align: right;\">\n",
              "      <th></th>\n",
              "      <th>score</th>\n",
              "      <th>inspection_type</th>\n",
              "    </tr>\n",
              "  </thead>\n",
              "  <tbody>\n",
              "    <tr>\n",
              "      <th>0</th>\n",
              "      <td>NaN</td>\n",
              "      <td>None</td>\n",
              "    </tr>\n",
              "    <tr>\n",
              "      <th>1</th>\n",
              "      <td>NaN</td>\n",
              "      <td>Trans Fat / Initial Inspection</td>\n",
              "    </tr>\n",
              "    <tr>\n",
              "      <th>2</th>\n",
              "      <td>NaN</td>\n",
              "      <td>Administrative Miscellaneous / Reopening Inspe...</td>\n",
              "    </tr>\n",
              "    <tr>\n",
              "      <th>3</th>\n",
              "      <td>22.140344</td>\n",
              "      <td>Cycle Inspection / Initial Inspection</td>\n",
              "    </tr>\n",
              "    <tr>\n",
              "      <th>4</th>\n",
              "      <td>NaN</td>\n",
              "      <td>Smoke-Free Air Act / Compliance Inspection</td>\n",
              "    </tr>\n",
              "    <tr>\n",
              "      <th>5</th>\n",
              "      <td>NaN</td>\n",
              "      <td>Administrative Miscellaneous / Compliance Insp...</td>\n",
              "    </tr>\n",
              "    <tr>\n",
              "      <th>6</th>\n",
              "      <td>NaN</td>\n",
              "      <td>Administrative Miscellaneous / Initial Inspection</td>\n",
              "    </tr>\n",
              "    <tr>\n",
              "      <th>7</th>\n",
              "      <td>20.852308</td>\n",
              "      <td>Inter-Agency Task Force / Initial Inspection</td>\n",
              "    </tr>\n",
              "    <tr>\n",
              "      <th>8</th>\n",
              "      <td>17.234375</td>\n",
              "      <td>Pre-permit (Non-operational) / Re-inspection</td>\n",
              "    </tr>\n",
              "    <tr>\n",
              "      <th>9</th>\n",
              "      <td>27.370370</td>\n",
              "      <td>Cycle Inspection / Second Compliance Inspection</td>\n",
              "    </tr>\n",
              "    <tr>\n",
              "      <th>10</th>\n",
              "      <td>NaN</td>\n",
              "      <td>Trans Fat / Re-inspection</td>\n",
              "    </tr>\n",
              "    <tr>\n",
              "      <th>11</th>\n",
              "      <td>NaN</td>\n",
              "      <td>Smoke-Free Air Act / Limited Inspection</td>\n",
              "    </tr>\n",
              "    <tr>\n",
              "      <th>12</th>\n",
              "      <td>31.042545</td>\n",
              "      <td>Pre-permit (Non-operational) / Initial Inspection</td>\n",
              "    </tr>\n",
              "    <tr>\n",
              "      <th>13</th>\n",
              "      <td>29.387644</td>\n",
              "      <td>Pre-permit (Operational) / Compliance Inspection</td>\n",
              "    </tr>\n",
              "    <tr>\n",
              "      <th>14</th>\n",
              "      <td>NaN</td>\n",
              "      <td>Smoke-Free Air Act / Re-inspection</td>\n",
              "    </tr>\n",
              "    <tr>\n",
              "      <th>15</th>\n",
              "      <td>NaN</td>\n",
              "      <td>Calorie Posting / Re-inspection</td>\n",
              "    </tr>\n",
              "    <tr>\n",
              "      <th>16</th>\n",
              "      <td>26.879834</td>\n",
              "      <td>Cycle Inspection / Compliance Inspection</td>\n",
              "    </tr>\n",
              "    <tr>\n",
              "      <th>17</th>\n",
              "      <td>16.194631</td>\n",
              "      <td>Pre-permit (Operational) / Reopening Inspection</td>\n",
              "    </tr>\n",
              "    <tr>\n",
              "      <th>18</th>\n",
              "      <td>NaN</td>\n",
              "      <td>Calorie Posting / Compliance Inspection</td>\n",
              "    </tr>\n",
              "    <tr>\n",
              "      <th>19</th>\n",
              "      <td>27.831769</td>\n",
              "      <td>Pre-permit (Operational) / Initial Inspection</td>\n",
              "    </tr>\n",
              "    <tr>\n",
              "      <th>20</th>\n",
              "      <td>19.947108</td>\n",
              "      <td>Cycle Inspection / Re-inspection</td>\n",
              "    </tr>\n",
              "    <tr>\n",
              "      <th>21</th>\n",
              "      <td>NaN</td>\n",
              "      <td>Administrative Miscellaneous / Second Complian...</td>\n",
              "    </tr>\n",
              "    <tr>\n",
              "      <th>22</th>\n",
              "      <td>NaN</td>\n",
              "      <td>Trans Fat / Compliance Inspection</td>\n",
              "    </tr>\n",
              "    <tr>\n",
              "      <th>23</th>\n",
              "      <td>9.071378</td>\n",
              "      <td>Cycle Inspection / Reopening Inspection</td>\n",
              "    </tr>\n",
              "    <tr>\n",
              "      <th>24</th>\n",
              "      <td>NaN</td>\n",
              "      <td>Administrative Miscellaneous / Re-inspection</td>\n",
              "    </tr>\n",
              "    <tr>\n",
              "      <th>25</th>\n",
              "      <td>0.000000</td>\n",
              "      <td>Inter-Agency Task Force / Re-inspection</td>\n",
              "    </tr>\n",
              "    <tr>\n",
              "      <th>26</th>\n",
              "      <td>6.000000</td>\n",
              "      <td>Pre-permit (Non-operational) / Second Complian...</td>\n",
              "    </tr>\n",
              "    <tr>\n",
              "      <th>27</th>\n",
              "      <td>52.407407</td>\n",
              "      <td>Pre-permit (Non-operational) / Compliance Insp...</td>\n",
              "    </tr>\n",
              "    <tr>\n",
              "      <th>28</th>\n",
              "      <td>NaN</td>\n",
              "      <td>Calorie Posting / Initial Inspection</td>\n",
              "    </tr>\n",
              "    <tr>\n",
              "      <th>29</th>\n",
              "      <td>NaN</td>\n",
              "      <td>Smoke-Free Air Act / Initial Inspection</td>\n",
              "    </tr>\n",
              "    <tr>\n",
              "      <th>30</th>\n",
              "      <td>23.609524</td>\n",
              "      <td>Pre-permit (Operational) / Second Compliance I...</td>\n",
              "    </tr>\n",
              "    <tr>\n",
              "      <th>31</th>\n",
              "      <td>22.799310</td>\n",
              "      <td>Pre-permit (Operational) / Re-inspection</td>\n",
              "    </tr>\n",
              "  </tbody>\n",
              "</table>\n",
              "</div>\n",
              "    <div class=\"colab-df-buttons\">\n",
              "\n",
              "  <div class=\"colab-df-container\">\n",
              "    <button class=\"colab-df-convert\" onclick=\"convertToInteractive('df-f64b9f7c-664c-4ad5-8844-e3eef297f884')\"\n",
              "            title=\"Convert this dataframe to an interactive table.\"\n",
              "            style=\"display:none;\">\n",
              "\n",
              "  <svg xmlns=\"http://www.w3.org/2000/svg\" height=\"24px\" viewBox=\"0 -960 960 960\">\n",
              "    <path d=\"M120-120v-720h720v720H120Zm60-500h600v-160H180v160Zm220 220h160v-160H400v160Zm0 220h160v-160H400v160ZM180-400h160v-160H180v160Zm440 0h160v-160H620v160ZM180-180h160v-160H180v160Zm440 0h160v-160H620v160Z\"/>\n",
              "  </svg>\n",
              "    </button>\n",
              "\n",
              "  <style>\n",
              "    .colab-df-container {\n",
              "      display:flex;\n",
              "      gap: 12px;\n",
              "    }\n",
              "\n",
              "    .colab-df-convert {\n",
              "      background-color: #E8F0FE;\n",
              "      border: none;\n",
              "      border-radius: 50%;\n",
              "      cursor: pointer;\n",
              "      display: none;\n",
              "      fill: #1967D2;\n",
              "      height: 32px;\n",
              "      padding: 0 0 0 0;\n",
              "      width: 32px;\n",
              "    }\n",
              "\n",
              "    .colab-df-convert:hover {\n",
              "      background-color: #E2EBFA;\n",
              "      box-shadow: 0px 1px 2px rgba(60, 64, 67, 0.3), 0px 1px 3px 1px rgba(60, 64, 67, 0.15);\n",
              "      fill: #174EA6;\n",
              "    }\n",
              "\n",
              "    .colab-df-buttons div {\n",
              "      margin-bottom: 4px;\n",
              "    }\n",
              "\n",
              "    [theme=dark] .colab-df-convert {\n",
              "      background-color: #3B4455;\n",
              "      fill: #D2E3FC;\n",
              "    }\n",
              "\n",
              "    [theme=dark] .colab-df-convert:hover {\n",
              "      background-color: #434B5C;\n",
              "      box-shadow: 0px 1px 3px 1px rgba(0, 0, 0, 0.15);\n",
              "      filter: drop-shadow(0px 1px 2px rgba(0, 0, 0, 0.3));\n",
              "      fill: #FFFFFF;\n",
              "    }\n",
              "  </style>\n",
              "\n",
              "    <script>\n",
              "      const buttonEl =\n",
              "        document.querySelector('#df-f64b9f7c-664c-4ad5-8844-e3eef297f884 button.colab-df-convert');\n",
              "      buttonEl.style.display =\n",
              "        google.colab.kernel.accessAllowed ? 'block' : 'none';\n",
              "\n",
              "      async function convertToInteractive(key) {\n",
              "        const element = document.querySelector('#df-f64b9f7c-664c-4ad5-8844-e3eef297f884');\n",
              "        const dataTable =\n",
              "          await google.colab.kernel.invokeFunction('convertToInteractive',\n",
              "                                                    [key], {});\n",
              "        if (!dataTable) return;\n",
              "\n",
              "        const docLinkHtml = 'Like what you see? Visit the ' +\n",
              "          '<a target=\"_blank\" href=https://colab.research.google.com/notebooks/data_table.ipynb>data table notebook</a>'\n",
              "          + ' to learn more about interactive tables.';\n",
              "        element.innerHTML = '';\n",
              "        dataTable['output_type'] = 'display_data';\n",
              "        await google.colab.output.renderOutput(dataTable, element);\n",
              "        const docLink = document.createElement('div');\n",
              "        docLink.innerHTML = docLinkHtml;\n",
              "        element.appendChild(docLink);\n",
              "      }\n",
              "    </script>\n",
              "  </div>\n",
              "\n",
              "\n",
              "<div id=\"df-7a778698-ba4e-4056-a529-3c99d8cefba2\">\n",
              "  <button class=\"colab-df-quickchart\" onclick=\"quickchart('df-7a778698-ba4e-4056-a529-3c99d8cefba2')\"\n",
              "            title=\"Suggest charts.\"\n",
              "            style=\"display:none;\">\n",
              "\n",
              "<svg xmlns=\"http://www.w3.org/2000/svg\" height=\"24px\"viewBox=\"0 0 24 24\"\n",
              "     width=\"24px\">\n",
              "    <g>\n",
              "        <path d=\"M19 3H5c-1.1 0-2 .9-2 2v14c0 1.1.9 2 2 2h14c1.1 0 2-.9 2-2V5c0-1.1-.9-2-2-2zM9 17H7v-7h2v7zm4 0h-2V7h2v10zm4 0h-2v-4h2v4z\"/>\n",
              "    </g>\n",
              "</svg>\n",
              "  </button>\n",
              "\n",
              "<style>\n",
              "  .colab-df-quickchart {\n",
              "      --bg-color: #E8F0FE;\n",
              "      --fill-color: #1967D2;\n",
              "      --hover-bg-color: #E2EBFA;\n",
              "      --hover-fill-color: #174EA6;\n",
              "      --disabled-fill-color: #AAA;\n",
              "      --disabled-bg-color: #DDD;\n",
              "  }\n",
              "\n",
              "  [theme=dark] .colab-df-quickchart {\n",
              "      --bg-color: #3B4455;\n",
              "      --fill-color: #D2E3FC;\n",
              "      --hover-bg-color: #434B5C;\n",
              "      --hover-fill-color: #FFFFFF;\n",
              "      --disabled-bg-color: #3B4455;\n",
              "      --disabled-fill-color: #666;\n",
              "  }\n",
              "\n",
              "  .colab-df-quickchart {\n",
              "    background-color: var(--bg-color);\n",
              "    border: none;\n",
              "    border-radius: 50%;\n",
              "    cursor: pointer;\n",
              "    display: none;\n",
              "    fill: var(--fill-color);\n",
              "    height: 32px;\n",
              "    padding: 0;\n",
              "    width: 32px;\n",
              "  }\n",
              "\n",
              "  .colab-df-quickchart:hover {\n",
              "    background-color: var(--hover-bg-color);\n",
              "    box-shadow: 0 1px 2px rgba(60, 64, 67, 0.3), 0 1px 3px 1px rgba(60, 64, 67, 0.15);\n",
              "    fill: var(--button-hover-fill-color);\n",
              "  }\n",
              "\n",
              "  .colab-df-quickchart-complete:disabled,\n",
              "  .colab-df-quickchart-complete:disabled:hover {\n",
              "    background-color: var(--disabled-bg-color);\n",
              "    fill: var(--disabled-fill-color);\n",
              "    box-shadow: none;\n",
              "  }\n",
              "\n",
              "  .colab-df-spinner {\n",
              "    border: 2px solid var(--fill-color);\n",
              "    border-color: transparent;\n",
              "    border-bottom-color: var(--fill-color);\n",
              "    animation:\n",
              "      spin 1s steps(1) infinite;\n",
              "  }\n",
              "\n",
              "  @keyframes spin {\n",
              "    0% {\n",
              "      border-color: transparent;\n",
              "      border-bottom-color: var(--fill-color);\n",
              "      border-left-color: var(--fill-color);\n",
              "    }\n",
              "    20% {\n",
              "      border-color: transparent;\n",
              "      border-left-color: var(--fill-color);\n",
              "      border-top-color: var(--fill-color);\n",
              "    }\n",
              "    30% {\n",
              "      border-color: transparent;\n",
              "      border-left-color: var(--fill-color);\n",
              "      border-top-color: var(--fill-color);\n",
              "      border-right-color: var(--fill-color);\n",
              "    }\n",
              "    40% {\n",
              "      border-color: transparent;\n",
              "      border-right-color: var(--fill-color);\n",
              "      border-top-color: var(--fill-color);\n",
              "    }\n",
              "    60% {\n",
              "      border-color: transparent;\n",
              "      border-right-color: var(--fill-color);\n",
              "    }\n",
              "    80% {\n",
              "      border-color: transparent;\n",
              "      border-right-color: var(--fill-color);\n",
              "      border-bottom-color: var(--fill-color);\n",
              "    }\n",
              "    90% {\n",
              "      border-color: transparent;\n",
              "      border-bottom-color: var(--fill-color);\n",
              "    }\n",
              "  }\n",
              "</style>\n",
              "\n",
              "  <script>\n",
              "    async function quickchart(key) {\n",
              "      const quickchartButtonEl =\n",
              "        document.querySelector('#' + key + ' button');\n",
              "      quickchartButtonEl.disabled = true;  // To prevent multiple clicks.\n",
              "      quickchartButtonEl.classList.add('colab-df-spinner');\n",
              "      try {\n",
              "        const charts = await google.colab.kernel.invokeFunction(\n",
              "            'suggestCharts', [key], {});\n",
              "      } catch (error) {\n",
              "        console.error('Error during call to suggestCharts:', error);\n",
              "      }\n",
              "      quickchartButtonEl.classList.remove('colab-df-spinner');\n",
              "      quickchartButtonEl.classList.add('colab-df-quickchart-complete');\n",
              "    }\n",
              "    (() => {\n",
              "      let quickchartButtonEl =\n",
              "        document.querySelector('#df-7a778698-ba4e-4056-a529-3c99d8cefba2 button');\n",
              "      quickchartButtonEl.style.display =\n",
              "        google.colab.kernel.accessAllowed ? 'block' : 'none';\n",
              "    })();\n",
              "  </script>\n",
              "</div>\n",
              "    </div>\n",
              "  </div>\n"
            ]
          },
          "metadata": {},
          "execution_count": 403
        }
      ]
    },
    {
      "cell_type": "markdown",
      "source": [
        "TODO: Split the type column at '/'"
      ],
      "metadata": {
        "id": "cHXZe2OyN_LW"
      }
    }
  ]
}